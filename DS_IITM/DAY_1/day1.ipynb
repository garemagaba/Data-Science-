{
 "cells": [
  {
   "cell_type": "code",
   "execution_count": 1,
   "id": "8a911cee-2a86-49dd-b45a-91c26c853240",
   "metadata": {},
   "outputs": [
    {
     "name": "stdout",
     "output_type": "stream",
     "text": [
      "5678 <class 'int'>\n"
     ]
    }
   ],
   "source": [
    "# Int\n",
    "a = 5678\n",
    "print(a,type(a))"
   ]
  },
  {
   "cell_type": "code",
   "execution_count": 2,
   "id": "a5007296-3eea-4980-9d50-608052caee1a",
   "metadata": {},
   "outputs": [
    {
     "name": "stdout",
     "output_type": "stream",
     "text": [
      "4567.8765 <class 'float'>\n"
     ]
    }
   ],
   "source": [
    "# Float\n",
    "a = 4567.8765\n",
    "print(a,type(a))"
   ]
  },
  {
   "cell_type": "code",
   "execution_count": 3,
   "id": "3ec0581e-eacb-47a1-9c59-90030bbafedb",
   "metadata": {},
   "outputs": [
    {
     "name": "stdout",
     "output_type": "stream",
     "text": [
      "(456+8j) <class 'complex'>\n"
     ]
    }
   ],
   "source": [
    "# Complex\n",
    "a = 456 + 8j\n",
    "print(a,type(a))"
   ]
  },
  {
   "cell_type": "code",
   "execution_count": 4,
   "id": "ce759df6-3000-417e-86e1-e4f95ef1a98e",
   "metadata": {},
   "outputs": [
    {
     "name": "stdout",
     "output_type": "stream",
     "text": [
      "Hello Python <class 'str'>\n"
     ]
    }
   ],
   "source": [
    "# Str, double, triple\n",
    "a = 'Hello Python'\n",
    "print(a,type(a))"
   ]
  },
  {
   "cell_type": "code",
   "execution_count": 5,
   "id": "bab90344-0eaa-461a-9b8a-337a9eb1ad04",
   "metadata": {},
   "outputs": [
    {
     "name": "stdout",
     "output_type": "stream",
     "text": [
      "Twinkle twinkle little star\n",
      "How I wonder what you are\n",
      "Up above the world so high\n",
      "Like a diamond in the sky\n",
      "Twinkle twinkle little star\n",
      "How I wonder what you are\n",
      "\n",
      "\n",
      "\n",
      "Twinkle twinkle little star\n",
      "How I wonder what you are\n",
      "Up above the world so high\n",
      "Like a diamond in the sky\n",
      "Twinkle twinkle little star\n",
      "How I wonder what you are\n"
     ]
    }
   ],
   "source": [
    "poem = '''Twinkle twinkle little star\n",
    "How I wonder what you are\n",
    "Up above the world so high\n",
    "Like a diamond in the sky\n",
    "Twinkle twinkle little star\n",
    "How I wonder what you are\n",
    "\n",
    "\n",
    "\n",
    "Twinkle twinkle little star\n",
    "How I wonder what you are\n",
    "Up above the world so high\n",
    "Like a diamond in the sky\n",
    "Twinkle twinkle little star\n",
    "How I wonder what you are'''\n",
    "\n",
    "\n",
    "print(poem)"
   ]
  },
  {
   "cell_type": "code",
   "execution_count": 6,
   "id": "cfafba6f-0423-4718-a518-2fcabebe2cd7",
   "metadata": {},
   "outputs": [
    {
     "name": "stdout",
     "output_type": "stream",
     "text": [
      "(2, 3434, 5, 5467) <class 'tuple'>\n"
     ]
    }
   ],
   "source": [
    "# tuple\n",
    "a = (2,3434,5,5467)\n",
    "print(a,type(a))"
   ]
  },
  {
   "cell_type": "code",
   "execution_count": 7,
   "id": "488efb28-eb8a-45a1-bd18-7a86e65baea4",
   "metadata": {},
   "outputs": [
    {
     "name": "stdout",
     "output_type": "stream",
     "text": [
      "(2,) <class 'tuple'>\n"
     ]
    }
   ],
   "source": [
    "# tuple\n",
    "a = (2,)\n",
    "print(a,type(a))"
   ]
  },
  {
   "cell_type": "code",
   "execution_count": 8,
   "id": "9b140a5d-eb4e-448c-82a3-e8abe086070a",
   "metadata": {},
   "outputs": [
    {
     "name": "stdout",
     "output_type": "stream",
     "text": [
      "[2, 3434, 5, 5467] <class 'list'>\n"
     ]
    }
   ],
   "source": [
    "# tuple\n",
    "a = [2,3434,5,5467]\n",
    "print(a,type(a))"
   ]
  },
  {
   "cell_type": "code",
   "execution_count": 9,
   "id": "046158a9-a8d4-4d81-8180-a8b0bc1c21d0",
   "metadata": {},
   "outputs": [],
   "source": [
    "a[2] = 4000"
   ]
  },
  {
   "cell_type": "code",
   "execution_count": 10,
   "id": "99844255-c831-4df0-8591-3683e856335b",
   "metadata": {},
   "outputs": [
    {
     "name": "stdout",
     "output_type": "stream",
     "text": [
      "[2, 3434, 4000, 5467]\n"
     ]
    }
   ],
   "source": [
    "print(a)"
   ]
  },
  {
   "cell_type": "code",
   "execution_count": 11,
   "id": "478d6bcc-dd82-414e-8985-dc79ddc88b0b",
   "metadata": {},
   "outputs": [
    {
     "name": "stdout",
     "output_type": "stream",
     "text": [
      "346\n"
     ]
    }
   ],
   "source": [
    "a = (3,544,5,346,567)\n",
    "\n",
    "print(a[3])"
   ]
  },
  {
   "cell_type": "code",
   "execution_count": 13,
   "id": "e6137df2-64e3-4b5d-95c1-6508afa9bcea",
   "metadata": {},
   "outputs": [
    {
     "name": "stdout",
     "output_type": "stream",
     "text": [
      "(3, 544, 5, 900, 567)\n"
     ]
    }
   ],
   "source": [
    "a = list(a)\n",
    "a[3] = 900\n",
    "a = tuple(a)\n",
    "print(a)"
   ]
  },
  {
   "cell_type": "code",
   "execution_count": 14,
   "id": "5ef19791-404a-4f52-8bc1-6f52c9873f20",
   "metadata": {},
   "outputs": [
    {
     "name": "stdout",
     "output_type": "stream",
     "text": [
      "[1, 1, 2, 2, 2, 2, 23, 3, 3, 3, 4, 4, 45]\n"
     ]
    }
   ],
   "source": [
    "std_id = [1,1,2,2,2,2,23,3,3,3,4,4,45]\n",
    "\n",
    "print(std_id)"
   ]
  },
  {
   "cell_type": "code",
   "execution_count": 15,
   "id": "85a6b1d5-c96d-4a4c-b7ce-09183b6071c0",
   "metadata": {},
   "outputs": [
    {
     "name": "stdout",
     "output_type": "stream",
     "text": [
      "[1, 2, 3, 4, 45, 23]\n"
     ]
    }
   ],
   "source": [
    "std_id = list(set(std_id))\n",
    "print(std_id)"
   ]
  },
  {
   "cell_type": "code",
   "execution_count": 16,
   "id": "a00f430c-7907-49c8-8fc4-4ad80c51f6b0",
   "metadata": {},
   "outputs": [
    {
     "name": "stdout",
     "output_type": "stream",
     "text": [
      "{'Name': 'Garema', 'Age': 20, 'Address': 'Delhi'} <class 'dict'>\n"
     ]
    }
   ],
   "source": [
    "# dict:- key value pair datatype, # hash\n",
    "\n",
    "a = {'Name':'Garema','Age':20,'Address':'Delhi'}\n",
    "print(a,type(a))"
   ]
  },
  {
   "cell_type": "code",
   "execution_count": 18,
   "id": "ad654686-f8cf-4c91-88e6-c1583b97a568",
   "metadata": {},
   "outputs": [],
   "source": [
    "a['Address'] = 'Janakpuri'"
   ]
  },
  {
   "cell_type": "raw",
   "id": "ca39e333-38af-41fd-b332-f55ba989714c",
   "metadata": {},
   "source": [
    "print(a)"
   ]
  },
  {
   "cell_type": "code",
   "execution_count": 19,
   "id": "fdc3f5a1-c9af-45b7-8f07-8b958c12d35b",
   "metadata": {},
   "outputs": [],
   "source": [
    "data = {'Region':['West','East','North','South'],\n",
    "        'Sales':[345,546,453,456],\n",
    "        'Profit':[120,200,90,78]}"
   ]
  },
  {
   "cell_type": "code",
   "execution_count": 20,
   "id": "225719a9-6ebc-4efe-8a15-9d6730013333",
   "metadata": {},
   "outputs": [
    {
     "name": "stdout",
     "output_type": "stream",
     "text": [
      "{'Region': ['West', 'East', 'North', 'South'], 'Sales': [345, 546, 453, 456], 'Profit': [120, 200, 90, 78]}\n"
     ]
    }
   ],
   "source": [
    "print(data)"
   ]
  },
  {
   "cell_type": "code",
   "execution_count": 21,
   "id": "f31f7e04-6163-4689-90b4-28c39ba22f4d",
   "metadata": {},
   "outputs": [
    {
     "data": {
      "text/html": [
       "<div>\n",
       "<style scoped>\n",
       "    .dataframe tbody tr th:only-of-type {\n",
       "        vertical-align: middle;\n",
       "    }\n",
       "\n",
       "    .dataframe tbody tr th {\n",
       "        vertical-align: top;\n",
       "    }\n",
       "\n",
       "    .dataframe thead th {\n",
       "        text-align: right;\n",
       "    }\n",
       "</style>\n",
       "<table border=\"1\" class=\"dataframe\">\n",
       "  <thead>\n",
       "    <tr style=\"text-align: right;\">\n",
       "      <th></th>\n",
       "      <th>Region</th>\n",
       "      <th>Sales</th>\n",
       "      <th>Profit</th>\n",
       "    </tr>\n",
       "  </thead>\n",
       "  <tbody>\n",
       "    <tr>\n",
       "      <th>0</th>\n",
       "      <td>West</td>\n",
       "      <td>345</td>\n",
       "      <td>120</td>\n",
       "    </tr>\n",
       "    <tr>\n",
       "      <th>1</th>\n",
       "      <td>East</td>\n",
       "      <td>546</td>\n",
       "      <td>200</td>\n",
       "    </tr>\n",
       "    <tr>\n",
       "      <th>2</th>\n",
       "      <td>North</td>\n",
       "      <td>453</td>\n",
       "      <td>90</td>\n",
       "    </tr>\n",
       "    <tr>\n",
       "      <th>3</th>\n",
       "      <td>South</td>\n",
       "      <td>456</td>\n",
       "      <td>78</td>\n",
       "    </tr>\n",
       "  </tbody>\n",
       "</table>\n",
       "</div>"
      ],
      "text/plain": [
       "  Region  Sales  Profit\n",
       "0   West    345     120\n",
       "1   East    546     200\n",
       "2  North    453      90\n",
       "3  South    456      78"
      ]
     },
     "execution_count": 21,
     "metadata": {},
     "output_type": "execute_result"
    }
   ],
   "source": [
    "import pandas as pd\n",
    "\n",
    "table = pd.DataFrame(data)\n",
    "table"
   ]
  },
  {
   "cell_type": "code",
   "execution_count": 22,
   "id": "cabcf5ac-3dff-4915-99cf-3cea9b1e454c",
   "metadata": {},
   "outputs": [
    {
     "name": "stdout",
     "output_type": "stream",
     "text": [
      "True <class 'bool'>\n"
     ]
    }
   ],
   "source": [
    "a = True\n",
    "print(a,type(a))"
   ]
  },
  {
   "cell_type": "code",
   "execution_count": 23,
   "id": "3115ee28-0a2f-4dd6-9ab7-f33f5346b52b",
   "metadata": {},
   "outputs": [],
   "source": [
    "# salary = 56789\n",
    "\n",
    "# >= 50: manager\n",
    "# >= 30: Jr manager\n",
    "# >= 20: Executive\n",
    "# Intern"
   ]
  },
  {
   "cell_type": "code",
   "execution_count": 24,
   "id": "3f3343e7-e1a3-4cb8-a8fb-4c73afbd9f7b",
   "metadata": {},
   "outputs": [
    {
     "name": "stdout",
     "output_type": "stream",
     "text": [
      "Executive\n"
     ]
    }
   ],
   "source": [
    "salary = 27800\n",
    "if salary >= 50000:\n",
    "  print('Manager')\n",
    "elif salary >= 30000:\n",
    "  print('Jr Manager')\n",
    "elif salary >= 20000:\n",
    "  print('Executive')\n",
    "else:\n",
    "  print('Intern')"
   ]
  },
  {
   "cell_type": "code",
   "execution_count": 27,
   "id": "875b5056-d1c8-492b-bb2d-6fe07ae94a9c",
   "metadata": {},
   "outputs": [
    {
     "data": {
      "text/plain": [
       "15498"
      ]
     },
     "execution_count": 27,
     "metadata": {},
     "output_type": "execute_result"
    }
   ],
   "source": [
    "import random\n",
    "random.randint(10000,60000)"
   ]
  },
  {
   "cell_type": "code",
   "execution_count": 28,
   "id": "4aba37b0-e687-4e6b-bc5d-371025d7eb19",
   "metadata": {},
   "outputs": [],
   "source": [
    "import numpy as np\n",
    "database_salary = np.random.randint(10000,60000,5)"
   ]
  },
  {
   "cell_type": "code",
   "execution_count": 29,
   "id": "ce1612aa-23ee-451b-9fb2-7455b4948a03",
   "metadata": {},
   "outputs": [
    {
     "name": "stdout",
     "output_type": "stream",
     "text": [
      "27800\n"
     ]
    }
   ],
   "source": [
    "print(salary)"
   ]
  },
  {
   "cell_type": "code",
   "execution_count": 30,
   "id": "a34342ed-a69a-475d-bae1-606b2be20a6e",
   "metadata": {},
   "outputs": [
    {
     "name": "stdout",
     "output_type": "stream",
     "text": [
      "18447 Intern\n",
      "30329 Jr Manager\n",
      "31383 Jr Manager\n",
      "41545 Jr Manager\n",
      "28998 Executive\n"
     ]
    }
   ],
   "source": [
    "for i in database_salary:\n",
    "  salary = i\n",
    "  if salary >= 50000:\n",
    "    print(i, 'Manager')\n",
    "  elif salary >= 30000:\n",
    "    print(i, 'Jr Manager')\n",
    "  elif salary >= 20000:\n",
    "    print(i, 'Executive')\n",
    "  else:\n",
    "    print(i, 'Intern')"
   ]
  },
  {
   "cell_type": "code",
   "execution_count": 31,
   "id": "29c5258a-9da4-45df-aa1e-d16d97857b2b",
   "metadata": {},
   "outputs": [
    {
     "name": "stdout",
     "output_type": "stream",
     "text": [
      "Sat Jul  5 22:35:40 2025\n"
     ]
    }
   ],
   "source": [
    "import time\n",
    "for i in range(20):\n",
    "  print(time.asctime())\n",
    "  time.sleep(1)\n",
    "  display(clear= True)"
   ]
  },
  {
   "cell_type": "code",
   "execution_count": 2,
   "id": "3f3e9424-dd04-42e3-be83-83fb3396fd81",
   "metadata": {},
   "outputs": [
    {
     "name": "stdin",
     "output_type": "stream",
     "text": [
      "Enter your Choice(1-10):  4\n"
     ]
    },
    {
     "name": "stdout",
     "output_type": "stream",
     "text": [
      "\n",
      "User choice: 4\n",
      "Computer Choice: 6\n",
      "Better Luck next time!!\n"
     ]
    }
   ],
   "source": [
    "import random\n",
    "comp_choice = random.randint(1,10)\n",
    "user_choice = int(input('Enter your Choice(1-10): '))\n",
    "\n",
    "print(f'''\n",
    "User choice: {user_choice}\n",
    "Computer Choice: {comp_choice}''')\n",
    "\n",
    "if user_choice == comp_choice:\n",
    "  print('User Won, Comp Lose!!')\n",
    "else:\n",
    "  print('Better Luck next time!!')"
   ]
  },
  {
   "cell_type": "code",
   "execution_count": 3,
   "id": "db932cd8-15a4-4d7f-9dd9-3aed0f938c1b",
   "metadata": {},
   "outputs": [
    {
     "name": "stdin",
     "output_type": "stream",
     "text": [
      "Enter your Choice(1-10):  5\n"
     ]
    },
    {
     "name": "stdout",
     "output_type": "stream",
     "text": [
      "\n",
      "  User choice: 5\n",
      "  Computer Choice: 10\n",
      "Better Luck next time!!\n"
     ]
    },
    {
     "name": "stdin",
     "output_type": "stream",
     "text": [
      "Enter your Choice(1-10):  4\n"
     ]
    },
    {
     "name": "stdout",
     "output_type": "stream",
     "text": [
      "\n",
      "  User choice: 4\n",
      "  Computer Choice: 3\n",
      "Better Luck next time!!\n"
     ]
    },
    {
     "name": "stdin",
     "output_type": "stream",
     "text": [
      "Enter your Choice(1-10):  3\n"
     ]
    },
    {
     "name": "stdout",
     "output_type": "stream",
     "text": [
      "\n",
      "  User choice: 3\n",
      "  Computer Choice: 10\n",
      "Better Luck next time!!\n"
     ]
    }
   ],
   "source": [
    "user_attempts = 3\n",
    "import random\n",
    "for i in range(user_attempts):\n",
    "  comp_choice = random.randint(1,10)\n",
    "  user_choice = int(input('Enter your Choice(1-10): '))\n",
    "\n",
    "  print(f'''\n",
    "  User choice: {user_choice}\n",
    "  Computer Choice: {comp_choice}''')\n",
    "\n",
    "  if user_choice == comp_choice:\n",
    "    print('User Won, Comp Lose!!')\n",
    "  else:\n",
    "    print('Better Luck next time!!')"
   ]
  },
  {
   "cell_type": "code",
   "execution_count": 4,
   "id": "1e49e79d-10d9-43fc-8bc5-31f3639a7847",
   "metadata": {},
   "outputs": [
    {
     "name": "stdout",
     "output_type": "stream",
     "text": [
      "Question 1:  What is the capital of Australia?\n",
      "A) Sydney\n",
      "B) Melbourne\n",
      "C) Canberra\n",
      "D) Perth\n"
     ]
    },
    {
     "name": "stdin",
     "output_type": "stream",
     "text": [
      "Enter your choice:  c\n"
     ]
    },
    {
     "name": "stdout",
     "output_type": "stream",
     "text": [
      "Correct Answer!!\n",
      "\n",
      "\n",
      "\n",
      "Question 2:  Who invented the telephone?\n",
      "A) Albert Einstein\n",
      "B) Isaac Newton\n",
      "C) Alexander Graham Bell\n",
      "D) Thomas Edison\n"
     ]
    },
    {
     "name": "stdin",
     "output_type": "stream",
     "text": [
      "Enter your choice:  c\n"
     ]
    },
    {
     "name": "stdout",
     "output_type": "stream",
     "text": [
      "Correct Answer!!\n",
      "\n",
      "\n",
      "\n",
      "Question 3:  Which planet is known as the Red Planet?\n",
      "A) Earth\n",
      "B) Venus\n",
      "C) Jupiter\n",
      "D) Mars\n"
     ]
    },
    {
     "name": "stdin",
     "output_type": "stream",
     "text": [
      "Enter your choice:  d\n"
     ]
    },
    {
     "name": "stdout",
     "output_type": "stream",
     "text": [
      "Correct Answer!!\n",
      "\n",
      "\n",
      "\n",
      "Question 4:  In which year did India gain independence?\n",
      "A) 1945\n",
      "B) 1946\n",
      "C) 1947\n",
      "D) 1950\n"
     ]
    },
    {
     "name": "stdin",
     "output_type": "stream",
     "text": [
      "Enter your choice:  c\n"
     ]
    },
    {
     "name": "stdout",
     "output_type": "stream",
     "text": [
      "Correct Answer!!\n",
      "\n",
      "\n",
      "\n",
      "Question 5:  What is the largest organ in the human body?\n",
      "A) Liver\n",
      "B) Brain\n",
      "C) Skin\n",
      "D) Heart\n"
     ]
    },
    {
     "name": "stdin",
     "output_type": "stream",
     "text": [
      "Enter your choice:  c\n"
     ]
    },
    {
     "name": "stdout",
     "output_type": "stream",
     "text": [
      "Correct Answer!!\n",
      "\n",
      "\n",
      "\n",
      "Total Amount 50000\n"
     ]
    }
   ],
   "source": [
    "Questions = {1:'What is the capital of Australia?',\n",
    "             2:'Who invented the telephone?',\n",
    "             3:'Which planet is known as the Red Planet?',\n",
    "             4:'In which year did India gain independence?',\n",
    "             5:'What is the largest organ in the human body?'}\n",
    "\n",
    "options = {1:'''A) Sydney\n",
    "B) Melbourne\n",
    "C) Canberra\n",
    "D) Perth''',\n",
    "           2:'''A) Albert Einstein\n",
    "B) Isaac Newton\n",
    "C) Alexander Graham Bell\n",
    "D) Thomas Edison''',\n",
    "           3:'''A) Earth\n",
    "B) Venus\n",
    "C) Jupiter\n",
    "D) Mars''',\n",
    "           4:'''A) 1945\n",
    "B) 1946\n",
    "C) 1947\n",
    "D) 1950''',\n",
    "           5:'''A) Liver\n",
    "B) Brain\n",
    "C) Skin\n",
    "D) Heart'''}\n",
    "\n",
    "win_ammount = 0\n",
    "\n",
    "correct_op = ['C','C','D','C','C']\n",
    "\n",
    "for i in range(1,len(Questions)+1):\n",
    "  print(f'Question {i}: ',Questions[i])\n",
    "  print(options[i])\n",
    "  user_choice = input('Enter your choice: ').upper()\n",
    "\n",
    "  correct_ans = correct_op[i-1]\n",
    "  # print(correct_ans)\n",
    "  if user_choice == correct_ans:\n",
    "    win_ammount += 10000\n",
    "    print('Correct Answer!!')\n",
    "    print(end = '\\n'*3)\n",
    "\n",
    "  else:\n",
    "    print('Better luck next time!!')\n",
    "    break\n",
    "\n",
    "\n",
    "print('Total Amount',win_ammount)"
   ]
  },
  {
   "cell_type": "code",
   "execution_count": 6,
   "id": "7e410907-4557-4554-a9ff-a2d524ad8a09",
   "metadata": {},
   "outputs": [],
   "source": [
    "def say_hello(name):\n",
    "  print(f'Hello {name},','how are you??')"
   ]
  },
  {
   "cell_type": "code",
   "execution_count": 7,
   "id": "9a7497c3-7ae6-44a7-87b0-6f5ce519bd72",
   "metadata": {},
   "outputs": [
    {
     "name": "stdout",
     "output_type": "stream",
     "text": [
      "Hello Garema, how are you??\n"
     ]
    }
   ],
   "source": [
    "say_hello('Garema')"
   ]
  },
  {
   "cell_type": "code",
   "execution_count": 8,
   "id": "caca542a-74a9-4f74-8474-3adf02027606",
   "metadata": {},
   "outputs": [],
   "source": [
    "def vote(age):\n",
    "  print('can Vote!!') if age >= 18 else print('can not Vote!!')"
   ]
  },
  {
   "cell_type": "code",
   "execution_count": 9,
   "id": "5c625a7f-e3f1-45f5-be4e-a36150346242",
   "metadata": {},
   "outputs": [
    {
     "name": "stdout",
     "output_type": "stream",
     "text": [
      "can Vote!!\n"
     ]
    }
   ],
   "source": [
    "vote(19)"
   ]
  },
  {
   "cell_type": "code",
   "execution_count": null,
   "id": "44571982-f994-47de-bcf2-1aa2ac66d11d",
   "metadata": {},
   "outputs": [],
   "source": []
  }
 ],
 "metadata": {
  "kernelspec": {
   "display_name": "Python 3 (ipykernel)",
   "language": "python",
   "name": "python3"
  },
  "language_info": {
   "codemirror_mode": {
    "name": "ipython",
    "version": 3
   },
   "file_extension": ".py",
   "mimetype": "text/x-python",
   "name": "python",
   "nbconvert_exporter": "python",
   "pygments_lexer": "ipython3",
   "version": "3.13.5"
  }
 },
 "nbformat": 4,
 "nbformat_minor": 5
}
