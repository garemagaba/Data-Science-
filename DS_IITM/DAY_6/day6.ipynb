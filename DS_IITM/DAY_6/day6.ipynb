{
 "cells": [
  {
   "cell_type": "code",
   "execution_count": 2,
   "id": "fab918a8-af07-420a-ade4-50821145b59c",
   "metadata": {},
   "outputs": [],
   "source": [
    "#OOPS = object centric programming, object = windows and it's related applications\n",
    "#remote is an object and it's buttons are functionals"
   ]
  },
  {
   "cell_type": "code",
   "execution_count": 3,
   "id": "12a02d30-3b35-497a-afa6-e073e3c6f5e9",
   "metadata": {},
   "outputs": [],
   "source": [
    "class IITM:\n",
    "\n",
    "\n",
    "\n",
    "    def intro():\n",
    "        print(\"hello buddy!!, hows you?!\")\n",
    "\n",
    "    def say_hello():\n",
    "        print(\"hello!!\")\n",
    "\n",
    "    def bye():\n",
    "        print('bye bye!')\n",
    "    "
   ]
  },
  {
   "cell_type": "code",
   "execution_count": 4,
   "id": "7582dcf3-f13c-43e0-81b0-09f88cdf27c8",
   "metadata": {},
   "outputs": [
    {
     "name": "stdout",
     "output_type": "stream",
     "text": [
      "<class 'int'>\n"
     ]
    }
   ],
   "source": [
    "a = int(10)\n",
    "print(type(a))"
   ]
  },
  {
   "cell_type": "code",
   "execution_count": 5,
   "id": "fb94a2a6-4079-4f40-bc4d-1069109b30ed",
   "metadata": {},
   "outputs": [
    {
     "name": "stdout",
     "output_type": "stream",
     "text": [
      "<class '__main__.IITM'>\n"
     ]
    }
   ],
   "source": [
    "garema = IITM() #garema is instance of IITM class/ Instance Creation\n",
    "print(type(garema))"
   ]
  },
  {
   "cell_type": "code",
   "execution_count": 6,
   "id": "97ab0e47-789e-436c-906b-3baa2c5b8a59",
   "metadata": {},
   "outputs": [],
   "source": [
    "      #software\n",
    "       #packages \n",
    "        #libraries\n",
    "         #modules\n",
    "          #class concept\n",
    "           #functional programming\n",
    "            #conditional programming\n",
    "             #basic programming"
   ]
  },
  {
   "cell_type": "code",
   "execution_count": 33,
   "id": "77245087-18a8-43af-ac68-1c4b6e9a1e07",
   "metadata": {},
   "outputs": [],
   "source": [
    "class Remote: #function are also called as features\n",
    "    def volume_up(self):\n",
    "        #when funtion is run, we need to add a parameter to avoid error because it requires some parameter to bind it woth the method/function\n",
    "        #parameter helps object to bind with the method/function\n",
    "        #pass comment(... - shortcut) - you can add on function and it's operations in future\n",
    "        #(self) - used so that the object is binding with itself for the method\n",
    "        \n",
    "        print('volume up by 1 unit')\n",
    "            \n",
    "\n",
    "    def volume_down(self):\n",
    "        print('volume down by 1 unit')\n",
    "\n",
    "    def power_on(self):\n",
    "        print('tv is ON')\n",
    "\n",
    "    def power_off(self):\n",
    "        print('tv is OFF')\n",
    "    "
   ]
  },
  {
   "cell_type": "code",
   "execution_count": 34,
   "id": "e240c3f0-396c-407c-929d-b6627aa94f51",
   "metadata": {},
   "outputs": [
    {
     "name": "stdout",
     "output_type": "stream",
     "text": [
      "done\n"
     ]
    }
   ],
   "source": [
    "mi = Remote()\n",
    "print('done')"
   ]
  },
  {
   "cell_type": "code",
   "execution_count": 35,
   "id": "e6a23661-f83e-480c-a07b-c11a2010ad3e",
   "metadata": {},
   "outputs": [
    {
     "name": "stdout",
     "output_type": "stream",
     "text": [
      "tv is ON\n"
     ]
    }
   ],
   "source": [
    "mi.power_on()\n",
    "#type error will occur here if the function doesn't have a parameter to pass itself as mi object isn't connected with Remote class and we require parameter to create connection\n",
    "#parameter helps object to bind with the method/function"
   ]
  },
  {
   "cell_type": "code",
   "execution_count": 45,
   "id": "81c8ec15-6c2c-4e1b-9a43-b3426ce73f75",
   "metadata": {},
   "outputs": [],
   "source": [
    "#autocall method\n",
    "\n",
    "class Remote_1:\n",
    "    def __init__(self): #__init__  initialisation, class constructor, also called magic method, dunder method\n",
    "        print('object has been created with class Remote')\n",
    "        print('Now you can use it!!')\n",
    "\n",
    "    def volume_up(self):\n",
    "        print('volume up by 1 unit')\n",
    "            \n",
    "\n",
    "    def volume_down(self):\n",
    "        print('volume down by 1 unit')\n",
    "\n",
    "    def power_on(self):\n",
    "        print('tv is ON')\n",
    "\n",
    "    def power_off(self):\n",
    "        print('tv is OFF')\n",
    "\n",
    "    def auto_suggest_channel(self): #funnels of coding - development, testing, production\n",
    "        import time\n",
    "        print('Search Trending Channel!!')\n",
    "        time.sleep(3)\n",
    "        print('Q2HAN!!')\n",
    "\n",
    "    def __del__(self): #class destructor - destructor destroys the object \n",
    "        print('object deleted successfully')\n",
    "        "
   ]
  },
  {
   "cell_type": "code",
   "execution_count": 46,
   "id": "9bbf770d-7f73-434e-8fb1-906eff4d3ecd",
   "metadata": {},
   "outputs": [
    {
     "name": "stdout",
     "output_type": "stream",
     "text": [
      "object has been created with class Remote\n",
      "Now you can use it!!\n",
      "done\n"
     ]
    }
   ],
   "source": [
    "mi = Remote_1()\n",
    "print('done')"
   ]
  },
  {
   "cell_type": "code",
   "execution_count": 44,
   "id": "504fbb5f-15ff-4175-81f4-c70eae6eb48a",
   "metadata": {},
   "outputs": [
    {
     "name": "stdout",
     "output_type": "stream",
     "text": [
      "Search Trending Channel!!\n",
      "Q2HAN!!\n"
     ]
    }
   ],
   "source": [
    "mi.auto_suggest_channel()"
   ]
  },
  {
   "cell_type": "code",
   "execution_count": 47,
   "id": "7feb9950-4d50-41c0-b075-823a2075994a",
   "metadata": {},
   "outputs": [
    {
     "name": "stdout",
     "output_type": "stream",
     "text": [
      "object deleted successfully\n"
     ]
    }
   ],
   "source": [
    "del(mi)"
   ]
  },
  {
   "cell_type": "code",
   "execution_count": 75,
   "id": "1316380f-98f4-4282-b430-5984c07a664b",
   "metadata": {},
   "outputs": [],
   "source": [
    "class Car:\n",
    "#outofusercontrol\n",
    "    def __init__(self):  #all the instance variables will bind with itself\n",
    "        #instance variables\n",
    "        self.color = 'white'\n",
    "        self.wheel = 4\n",
    "        self.spare_wheel = 1\n",
    "        self.airbag_support = True\n",
    "        self.fuel_type = 'Diesel'\n",
    "        self.car_type = 'SUV'\n",
    "        self.gear_type = 'Automatic'\n",
    "        print(\"your car is ready\")\n",
    "#====================================================================================\n",
    "#features\n",
    "    def auto_park(self):\n",
    "        import IPython\n",
    "        url = '''https://www.thoughtworks.com/content/dam/thoughtworks/images/photography/inline-image/insights/blog/emerging-tech/blg_inline_training_autonomous_vehicles_xr_simulation_06.gif'''\n",
    "        display(IPython.display.Image(url))\n",
    "\n",
    "    def engine_on(self):\n",
    "        import pygame\n",
    "        pygame.init()\n",
    "        path = r'''C:\\Users\\HP\\Downloads\\engine-start-bmw-320-vg91-78912.mp3'''\n",
    "        music = pygame.mixer.Sound(path)\n",
    "        music.play()\n",
    "\n",
    "\n",
    "    def speed_up(self):\n",
    "        c = 10\n",
    "        while c <= 200:\n",
    "            import time\n",
    "            print(f'Speed is increasing by {c} kmm/hr')\n",
    "            c += 10\n",
    "            display(clear = True)\n",
    "            time.sleep(0.5)\n",
    "\n",
    "            if c >= 100:\n",
    "                print('You are crossing speed limit')\n",
    "                break\n",
    "\n",
    "    def drift_brake(self, drift = False):\n",
    "        if drift == True:\n",
    "            import pygame\n",
    "            pygame.init()\n",
    "            path = r'''C:\\Users\\HP\\Downloads\\bmw_drift.mp3'''\n",
    "            music = pygame.mixer.Sound(path)\n",
    "            music.play()\n",
    "            import IPython\n",
    "            url = '''https://i.pinimg.com/originals/10/65/bc/1065bc662c55648c454c462f208d920e.gif'''\n",
    "            display(IPython.display.Image(url))\n",
    "            \n",
    "        else:\n",
    "            print('Brake Applied!!')"
   ]
  },
  {
   "cell_type": "code",
   "execution_count": 76,
   "id": "04d70146-1649-4fac-ad0d-7027767fcc43",
   "metadata": {},
   "outputs": [
    {
     "name": "stdout",
     "output_type": "stream",
     "text": [
      "your car is ready\n"
     ]
    }
   ],
   "source": [
    "bmw = Car()"
   ]
  },
  {
   "cell_type": "code",
   "execution_count": 77,
   "id": "31d6a8bf-1148-4421-ba6d-70db6be2189b",
   "metadata": {},
   "outputs": [],
   "source": [
    "#bmw.engine_on()"
   ]
  },
  {
   "cell_type": "code",
   "execution_count": 78,
   "id": "ed247460-f57f-4512-a2fe-69859b0da7ef",
   "metadata": {},
   "outputs": [],
   "source": [
    "#bmw.auto_park()"
   ]
  },
  {
   "cell_type": "code",
   "execution_count": 79,
   "id": "c9d41663-a56f-4ece-bca5-8238e9095769",
   "metadata": {},
   "outputs": [
    {
     "name": "stdout",
     "output_type": "stream",
     "text": [
      "You are crossing speed limit\n"
     ]
    }
   ],
   "source": [
    "bmw.speed_up()"
   ]
  },
  {
   "cell_type": "code",
   "execution_count": 80,
   "id": "209c81ed-2eed-4b51-a9cc-f0439ed3e2a8",
   "metadata": {},
   "outputs": [],
   "source": [
    "#bmw.drift_brake()"
   ]
  },
  {
   "cell_type": "code",
   "execution_count": 81,
   "id": "7915e59f-4a38-426d-a033-5ab8419e796a",
   "metadata": {},
   "outputs": [
    {
     "name": "stdout",
     "output_type": "stream",
     "text": [
      "your car is ready\n"
     ]
    }
   ],
   "source": [
    "kia = Car()"
   ]
  },
  {
   "cell_type": "code",
   "execution_count": 82,
   "id": "43cbfd37-5e29-42ea-a257-e80d02ed6b54",
   "metadata": {},
   "outputs": [
    {
     "data": {
      "text/plain": [
       "'SUV'"
      ]
     },
     "execution_count": 82,
     "metadata": {},
     "output_type": "execute_result"
    }
   ],
   "source": [
    "kia.car_type"
   ]
  },
  {
   "cell_type": "code",
   "execution_count": 83,
   "id": "995f9663-b82d-4774-9000-bbbdcd4f2770",
   "metadata": {},
   "outputs": [
    {
     "name": "stdout",
     "output_type": "stream",
     "text": [
      "your car is ready\n"
     ]
    }
   ],
   "source": [
    "maruti = Car()"
   ]
  },
  {
   "cell_type": "code",
   "execution_count": 91,
   "id": "dc7530a9-ddcc-46e4-902e-bbdeb64f89ad",
   "metadata": {},
   "outputs": [
    {
     "data": {
      "text/plain": [
       "'white'"
      ]
     },
     "execution_count": 91,
     "metadata": {},
     "output_type": "execute_result"
    }
   ],
   "source": [
    "maruti.color"
   ]
  },
  {
   "cell_type": "code",
   "execution_count": 93,
   "id": "3d1a0240-58ca-4cd7-bea8-bc4f39829223",
   "metadata": {},
   "outputs": [],
   "source": [
    "kia.color = 'black'"
   ]
  },
  {
   "cell_type": "code",
   "execution_count": 94,
   "id": "1434ae0f-9cdd-4fd6-b6c4-9d0cb16b0d63",
   "metadata": {},
   "outputs": [
    {
     "data": {
      "text/plain": [
       "'black'"
      ]
     },
     "execution_count": 94,
     "metadata": {},
     "output_type": "execute_result"
    }
   ],
   "source": [
    "kia.color"
   ]
  },
  {
   "cell_type": "code",
   "execution_count": 97,
   "id": "64ac87b8-16a1-4c86-a6b6-5149289086c5",
   "metadata": {},
   "outputs": [],
   "source": [
    "#OOPs Pillar - Abstraction, Encapsulation, Inheritance, Polymorphism\n",
    "#Access Modifier - Public, Protected and Private"
   ]
  },
  {
   "cell_type": "code",
   "execution_count": 103,
   "id": "25d22d59-9610-4480-be63-6bc25d071b7f",
   "metadata": {},
   "outputs": [],
   "source": [
    "#Abstraction\n",
    "class ATM:\n",
    "    def __init__(self):\n",
    "        self.pin = 1111  #public variable\n",
    "        self.balance = 2000   #public variable\n",
    "        print(\"Object Created successfully\")\n",
    "\n",
    "    def change_pin(self): #public method\n",
    "        self.pin = input('Enter New Pin:')\n",
    "        print(\"Your Pin has been changed!!\")\n",
    "\n",
    "    def show_balance(self):\n",
    "        print(f'''Your Current Balance is Rs {self.balance}''')\n",
    "\n",
    "    def atm_performance_status(self):\n",
    "        print('ATM working fine 100%')"
   ]
  },
  {
   "cell_type": "code",
   "execution_count": 104,
   "id": "c157ddea-1762-4f54-b081-deba5a13cba2",
   "metadata": {},
   "outputs": [
    {
     "name": "stdout",
     "output_type": "stream",
     "text": [
      "Object Created successfully\n"
     ]
    }
   ],
   "source": [
    "HDFC = ATM()"
   ]
  },
  {
   "cell_type": "code",
   "execution_count": 110,
   "id": "b1c41d8e-4467-4d3d-93a8-42ef273b94f9",
   "metadata": {},
   "outputs": [],
   "source": [
    "class ATM_Version1:\n",
    "    def __init__(self):\n",
    "        self._pin = 1111     #( _ - underscore)protected variable\n",
    "        self._balance = 2000 #( _ - underscore)protected variable\n",
    "        print(\"Object Created successfully\")\n",
    "\n",
    "    def change_pin(self): #public method\n",
    "        self._pin = input('Enter New Pin:')\n",
    "        print(\"Your Pin has been changed!!\")\n",
    "\n",
    "    def show_balance(self):\n",
    "        print(f'''Your Current Balance is Rs {self.balance}''') #If I still want to see the balance that is protected, change self.balance to self._balance\n",
    "\n",
    "    def atm_performance_status(self):\n",
    "        print('ATM working fine 100%')"
   ]
  },
  {
   "cell_type": "code",
   "execution_count": 111,
   "id": "6f6b0e62-1b60-45c4-acd8-e645eb54f2f0",
   "metadata": {},
   "outputs": [
    {
     "name": "stdout",
     "output_type": "stream",
     "text": [
      "Object Created successfully\n"
     ]
    }
   ],
   "source": [
    "ICICI = ATM_Version1()"
   ]
  },
  {
   "cell_type": "code",
   "execution_count": 112,
   "id": "5cdff26c-9af3-465e-87c4-1d91cd314aff",
   "metadata": {},
   "outputs": [
    {
     "name": "stdout",
     "output_type": "stream",
     "text": [
      "Your Current Balance is Rs 2000\n"
     ]
    }
   ],
   "source": [
    "ICICI.show_balance()"
   ]
  },
  {
   "cell_type": "code",
   "execution_count": 121,
   "id": "4b20b61b-4c78-4c06-9b31-cb27c5a32a7f",
   "metadata": {},
   "outputs": [],
   "source": [
    "class ATM_Version2:\n",
    "    def __init__(self):\n",
    "        self.__pin = 1111     #( __ - double underscore)private variable\n",
    "        self.__balance = 2000 #( __- double underscore)private variable\n",
    "        print(\"Object Created successfully\")\n",
    "\n",
    "    def change_pin(self): #public method\n",
    "        self._pin = input('Enter New Pin:')\n",
    "        print(\"Your Pin has been changed!!\")\n",
    "\n",
    "    def show_balance(self):\n",
    "        print(f'''Your Current Balance is Rs {self.__balance}''') #If I still want to see the balance that is private, change self.balance to self.__balance\n",
    "        #Now as I made the variable private, I can't access it like protected variable\n",
    "        #To access the private variable, use [object._Classname__variable] \n",
    "        #For.eg obj = bank; classname = RBI; variable = balance;  Correct => [bank._RBI__balance]\n",
    "\n",
    "    def atm_performance_status(self):\n",
    "        print('ATM working fine 100%')\n",
    "\n",
    "#In python encapsulation is a concept to hide details from the user but it can't be kept hidden from the Developer!!"
   ]
  },
  {
   "cell_type": "code",
   "execution_count": 122,
   "id": "d688737b-801c-4a4a-8be7-e5fd79425cce",
   "metadata": {},
   "outputs": [
    {
     "name": "stdout",
     "output_type": "stream",
     "text": [
      "Object Created successfully\n"
     ]
    }
   ],
   "source": [
    "PNB = ATM_Version2()"
   ]
  },
  {
   "cell_type": "code",
   "execution_count": 125,
   "id": "c3cacf0d-fba0-4553-93d4-29d33965d766",
   "metadata": {},
   "outputs": [
    {
     "data": {
      "text/plain": [
       "2000"
      ]
     },
     "execution_count": 125,
     "metadata": {},
     "output_type": "execute_result"
    }
   ],
   "source": [
    "PNB._ATM_Version2__balance"
   ]
  },
  {
   "cell_type": "code",
   "execution_count": null,
   "id": "d3c6a4a0-7fdf-4a95-b7fd-74f947176af9",
   "metadata": {},
   "outputs": [],
   "source": []
  }
 ],
 "metadata": {
  "kernelspec": {
   "display_name": "Python 3 (ipykernel)",
   "language": "python",
   "name": "python3"
  },
  "language_info": {
   "codemirror_mode": {
    "name": "ipython",
    "version": 3
   },
   "file_extension": ".py",
   "mimetype": "text/x-python",
   "name": "python",
   "nbconvert_exporter": "python",
   "pygments_lexer": "ipython3",
   "version": "3.13.5"
  }
 },
 "nbformat": 4,
 "nbformat_minor": 5
}
