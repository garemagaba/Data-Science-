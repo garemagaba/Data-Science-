{
 "cells": [
  {
   "cell_type": "code",
   "execution_count": 3,
   "id": "95569507-b5c2-4f04-9dec-7fdc05811972",
   "metadata": {},
   "outputs": [
    {
     "name": "stdout",
     "output_type": "stream",
     "text": [
      "['A', 'B', 'C']\n",
      "('A', 'B', 'C')\n"
     ]
    }
   ],
   "source": [
    "#Answer_1\n",
    "#List and Tuple are used to store data elements\n",
    "#List: Mutable, created using [] square bracket\n",
    "#Tuple: Immutable, created using () parenthesis, we can also create single element tuple\n",
    "\n",
    "list = ['A','B','C']\n",
    "tuple = ('A','B','C')\n",
    "print(list)\n",
    "print(tuple)"
   ]
  },
  {
   "cell_type": "code",
   "execution_count": 7,
   "id": "224bb567-8b54-49aa-9ab9-235eecffea7f",
   "metadata": {},
   "outputs": [
    {
     "name": "stdout",
     "output_type": "stream",
     "text": [
      "Enter Name\n"
     ]
    },
    {
     "name": "stdin",
     "output_type": "stream",
     "text": [
      " Garema\n"
     ]
    },
    {
     "name": "stdout",
     "output_type": "stream",
     "text": [
      "Enter Age\n"
     ]
    },
    {
     "name": "stdin",
     "output_type": "stream",
     "text": [
      " 20\n"
     ]
    }
   ],
   "source": [
    "#Answer_2\n",
    "#Input() function is used to take data from user, by default it takes string values.\n",
    "print('Enter Name')\n",
    "Name = input() #Garema Gaba\n",
    "#To convert it to take Integer values we use int() datatype\n",
    "print('Enter Age')\n",
    "Age = int(input()) #20"
   ]
  },
  {
   "cell_type": "code",
   "execution_count": 37,
   "id": "4d855f16-cee0-4e9a-97e1-a76762db916b",
   "metadata": {},
   "outputs": [],
   "source": [
    "#Answer_3\n",
    "#Python dictionary are unordered collections of data in form of Key and Value Pair in {} curly braces\n",
    "\n",
    "student = {\"Name\": \"Garema Gaba\",\n",
    "            \"Course\": \"BCA\",\n",
    "            \"RollNo\": \"6424402023\"}"
   ]
  },
  {
   "cell_type": "code",
   "execution_count": 39,
   "id": "e1c4fbec-387f-4522-9010-6b2c36ac125d",
   "metadata": {},
   "outputs": [
    {
     "name": "stdout",
     "output_type": "stream",
     "text": [
      "Hello 1\n",
      "Hello 2\n",
      "Hello 3\n",
      "Hello 4\n",
      "Hello 5\n"
     ]
    }
   ],
   "source": [
    "#Answer_4\n",
    "#For loop is used to iterate, so we won't need to do manual work\n",
    "\n",
    "for i in range(1,6):\n",
    "    print('Hello',i)"
   ]
  },
  {
   "cell_type": "code",
   "execution_count": 46,
   "id": "0a2c346e-627e-4cd7-ab4d-437fb397bbc2",
   "metadata": {},
   "outputs": [
    {
     "name": "stdin",
     "output_type": "stream",
     "text": [
      "Enter your age:  20\n"
     ]
    },
    {
     "name": "stdout",
     "output_type": "stream",
     "text": [
      "Can Vote!!\n",
      "Voting age check complete.\n"
     ]
    }
   ],
   "source": [
    "#Answer_5\n",
    "#Exception handling is used to manage errors, \n",
    "#in try block we can write the exception, \n",
    "#finally block is used even if error occur we can still run the code\n",
    "\n",
    "try:\n",
    "    age_check = input(\"Enter your age: \")\n",
    "    age = int(age_check)\n",
    "    if age < 18:\n",
    "        print(\"Cant Vote =(\")\n",
    "    else:\n",
    "        print(\"Can Vote!!\")\n",
    "except ValueError:\n",
    "    print(\"Invalid input. Please enter a valid number for age.\")\n",
    "finally:\n",
    "    print(\"Voting age check complete.\")\n"
   ]
  },
  {
   "cell_type": "code",
   "execution_count": 47,
   "id": "bcba6710-d775-4fff-92d7-f4c555abb2ef",
   "metadata": {},
   "outputs": [
    {
     "name": "stdout",
     "output_type": "stream",
     "text": [
      "5.0\n",
      "5.0\n"
     ]
    }
   ],
   "source": [
    "#Answer_6\n",
    "#Python Modules are bunch of python libraries, Math modules is used for mathematical calculations\n",
    "\n",
    "import math as m #we can import any functions from this module but,\n",
    "result = m.sqrt(25)\n",
    "print(result)  # Output: 5.0\n",
    "\n",
    "from math import sqrt #we can specifically import only square root function\n",
    "result = sqrt(25)\n",
    "print(result) \n",
    "\n"
   ]
  },
  {
   "cell_type": "code",
   "execution_count": 52,
   "id": "34fcf040-da2d-44a3-9e9a-ce4d84868507",
   "metadata": {},
   "outputs": [
    {
     "name": "stdout",
     "output_type": "stream",
     "text": [
      "Cookie\n",
      "German Shepherd\n",
      "Woof!\n",
      "Name: Cake, Breed: German Shepherd\n"
     ]
    }
   ],
   "source": [
    "#Answer_7\n",
    "#OOP consist of 4 pillar in python: Encapsulation, Abstractions, Polymorphism, Inheritance(Simple, Multilevel, Multiple, Hybrid, Hierachical)\n",
    "#Class in Blueprint\n",
    "#Object is Instance\n",
    "\n",
    "class Dog:\n",
    "    def __init__(self, name, breed):\n",
    "        self.name = name\n",
    "        self.breed = breed\n",
    "\n",
    "    def bark(self):\n",
    "        print(\"Woof!\")\n",
    "\n",
    "    def displayinfo(self):\n",
    "        print(f\"Name: {self.name}, Breed: {self.breed}\")\n",
    "\n",
    "dog1 = Dog(\"Cookie\", \"Golden Retriever\")\n",
    "dog2 = Dog(\"Cake\", \"German Shepherd\")\n",
    "\n",
    "print(dog1.name)  \n",
    "print(dog2.breed) \n",
    "\n",
    "dog1.bark()     \n",
    "dog2.displayinfo() \n"
   ]
  },
  {
   "cell_type": "code",
   "execution_count": 41,
   "id": "ea1d5763-a5c5-4b9c-9425-9b202ed47891",
   "metadata": {},
   "outputs": [],
   "source": [
    "#Answer_8\n"
   ]
  },
  {
   "cell_type": "code",
   "execution_count": 58,
   "id": "a829cc46-6cab-4fe2-92a8-1b42775f2775",
   "metadata": {},
   "outputs": [
    {
     "name": "stdout",
     "output_type": "stream",
     "text": [
      "The area of a circle with radius 5 is: 78.53981633974483\n"
     ]
    }
   ],
   "source": [
    "#Answer_9\n",
    "import math as m\n",
    "def calculate_area(radius):\n",
    " \n",
    "  area = m.pi * (radius ** 2)  #pi function from math as m\n",
    "  return area\n",
    "\n",
    "radius = 5\n",
    "area = calculate_area(radius)\n",
    "print(f\"The area of a circle with radius {radius} is: {area}\")\n"
   ]
  },
  {
   "cell_type": "code",
   "execution_count": 59,
   "id": "a74bbaef-a5ba-4af8-b734-d142624af082",
   "metadata": {},
   "outputs": [
    {
     "name": "stdin",
     "output_type": "stream",
     "text": [
      "Enter your name: Garema\n",
      "Enter Age: 20\n"
     ]
    },
    {
     "name": "stdout",
     "output_type": "stream",
     "text": [
      "Hello Garema, you are 20 years old!\n"
     ]
    }
   ],
   "source": [
    "#Answer_10\n",
    "name = input(\"Enter your name:\")\n",
    "age = input(\"Enter Age:\")\n",
    "print(f\"Hello {name}, you are {age} years old!!\")"
   ]
  },
  {
   "cell_type": "code",
   "execution_count": 60,
   "id": "d00eefac-5cd1-4564-9d81-c093ddc1b0d0",
   "metadata": {},
   "outputs": [
    {
     "name": "stdout",
     "output_type": "stream",
     "text": [
      "Fruit 1: strawberry\n",
      "Fruit 2: banana\n",
      "Fruit 3: mango\n",
      "Fruit 4: kiwi\n",
      "Fruit 5: pear\n"
     ]
    }
   ],
   "source": [
    "#Answer_11\n",
    "fruits = [\"strawberry\", \"banana\", \"mango\", \"kiwi\", \"pear\"]\n",
    "\n",
    "for index, fruit in enumerate(fruits, start=1):\n",
    "  print(f\"Fruit {index}: {fruit}\")\n"
   ]
  },
  {
   "cell_type": "code",
   "execution_count": 67,
   "id": "c208e964-ad2d-4cf1-8a62-0a9bf94a736f",
   "metadata": {},
   "outputs": [
    {
     "name": "stdout",
     "output_type": "stream",
     "text": [
      "Score 95: A\n",
      "Score 97: A\n",
      "Score 85: B\n",
      "Score 85: B\n",
      "Score 96: A\n"
     ]
    }
   ],
   "source": [
    "#Answer_12\n",
    "def grade_calculator(score):\n",
    "\n",
    "    if score >= 90: \n",
    "        return \"A\"\n",
    "    elif score >= 80:  \n",
    "        return \"B\"\n",
    "    elif score >= 70:  \n",
    "        return \"C\"\n",
    "    elif score >= 60: \n",
    "        return \"D\"\n",
    "    else:  \n",
    "        return \"F\"\n",
    "\n",
    "print(f'''Score 95: {grade_calculator(95)}''')\n",
    "print(f'''Score 97: {grade_calculator(97)}''')  \n",
    "print(f'''Score 85: {grade_calculator(85)}''') \n",
    "print(f'''Score 85: {grade_calculator(85)}''')  \n",
    "print(f'''Score 96: {grade_calculator(96)}''')"
   ]
  },
  {
   "cell_type": "code",
   "execution_count": 75,
   "id": "52a0b111-a85e-449e-887a-7dd2c2559a16",
   "metadata": {},
   "outputs": [
    {
     "name": "stdout",
     "output_type": "stream",
     "text": [
      "Deposited: 100000.00Rupees\n",
      "Withdrew: 50000.00Rupees\n",
      "Withdrew: 1500.00Rupees\n",
      "Current balance: 148500.00Rupees\n"
     ]
    }
   ],
   "source": [
    "#Answer_14\n",
    "class BankAccount:\n",
    "    def __init__(self, account_holder_name, starting_balance=0):\n",
    "        self.account_holder = account_holder_name\n",
    "        self.balance = starting_balance\n",
    "\n",
    "    def deposit(self, amount):\n",
    "        if amount > 0:\n",
    "            self.balance += amount\n",
    "            print(f\"Deposited: {amount:.2f}Rupees\")\n",
    "        else:\n",
    "            print(\"Invalid deposit amount.\")\n",
    "\n",
    "    def withdraw(self, amount):\n",
    "        if amount > 0:\n",
    "            if self.balance >= amount:\n",
    "                self.balance -= amount\n",
    "                print(f\"Withdrew: {amount:.2f}Rupees\")\n",
    "            else:\n",
    "                print(\"Insufficient balance.\")\n",
    "        else:\n",
    "            print(\"Invalid withdrawal amount.\")\n",
    "\n",
    "\n",
    "    def display_balance(self):\n",
    "        print(f\"Current balance: {self.balance:.2f}Rupees\")\n",
    "\n",
    "\n",
    "#account created\n",
    "account = BankAccount(\"Garema Gaba\", 100000)\n",
    "\n",
    "#transactions\n",
    "account.deposit(100000)\n",
    "account.withdraw(50000)\n",
    "account.withdraw(1500) \n",
    "account.display_balance()\n"
   ]
  },
  {
   "cell_type": "code",
   "execution_count": null,
   "id": "0f32de54-08cf-4570-af81-3ca24f1789f2",
   "metadata": {},
   "outputs": [],
   "source": []
  },
  {
   "cell_type": "code",
   "execution_count": null,
   "id": "0d93558e-a3a4-450d-9896-4c9ecb8ad254",
   "metadata": {},
   "outputs": [],
   "source": []
  }
 ],
 "metadata": {
  "kernelspec": {
   "display_name": "Python 3 (ipykernel)",
   "language": "python",
   "name": "python3"
  },
  "language_info": {
   "codemirror_mode": {
    "name": "ipython",
    "version": 3
   },
   "file_extension": ".py",
   "mimetype": "text/x-python",
   "name": "python",
   "nbconvert_exporter": "python",
   "pygments_lexer": "ipython3",
   "version": "3.13.5"
  }
 },
 "nbformat": 4,
 "nbformat_minor": 5
}
