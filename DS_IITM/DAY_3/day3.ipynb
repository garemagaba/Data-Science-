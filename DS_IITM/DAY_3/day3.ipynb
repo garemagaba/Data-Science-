{
 "cells": [
  {
   "cell_type": "code",
   "execution_count": 1,
   "id": "0deebf11-482b-4f8f-a905-55c537278d2b",
   "metadata": {},
   "outputs": [
    {
     "name": "stdout",
     "output_type": "stream",
     "text": [
      "This is Garema Module in Python\n",
      "Info: https://www.google.com/\n",
      "done\n"
     ]
    }
   ],
   "source": [
    "import garemagaba as gg\n",
    "print(\"done\")"
   ]
  },
  {
   "cell_type": "code",
   "execution_count": 2,
   "id": "dcc7f0fa-fbcc-4e4d-85c5-883c4225400c",
   "metadata": {
    "collapsed": true,
    "jupyter": {
     "outputs_hidden": true,
     "source_hidden": true
    }
   },
   "outputs": [
    {
     "name": "stdout",
     "output_type": "stream",
     "text": [
      "Collecting gTTs\n",
      "  Downloading gTTS-2.5.4-py3-none-any.whl.metadata (4.1 kB)\n",
      "Requirement already satisfied: requests<3,>=2.27 in c:\\users\\hp\\appdata\\local\\anaconda3\\lib\\site-packages (from gTTs) (2.32.3)\n",
      "Requirement already satisfied: click<8.2,>=7.1 in c:\\users\\hp\\appdata\\local\\anaconda3\\lib\\site-packages (from gTTs) (8.1.8)\n",
      "Requirement already satisfied: colorama in c:\\users\\hp\\appdata\\local\\anaconda3\\lib\\site-packages (from click<8.2,>=7.1->gTTs) (0.4.6)\n",
      "Requirement already satisfied: charset-normalizer<4,>=2 in c:\\users\\hp\\appdata\\local\\anaconda3\\lib\\site-packages (from requests<3,>=2.27->gTTs) (3.3.2)\n",
      "Requirement already satisfied: idna<4,>=2.5 in c:\\users\\hp\\appdata\\local\\anaconda3\\lib\\site-packages (from requests<3,>=2.27->gTTs) (3.7)\n",
      "Requirement already satisfied: urllib3<3,>=1.21.1 in c:\\users\\hp\\appdata\\local\\anaconda3\\lib\\site-packages (from requests<3,>=2.27->gTTs) (2.3.0)\n",
      "Requirement already satisfied: certifi>=2017.4.17 in c:\\users\\hp\\appdata\\local\\anaconda3\\lib\\site-packages (from requests<3,>=2.27->gTTs) (2025.4.26)\n",
      "Downloading gTTS-2.5.4-py3-none-any.whl (29 kB)\n",
      "Installing collected packages: gTTs\n",
      "Successfully installed gTTs-2.5.4\n",
      "Note: you may need to restart the kernel to use updated packages.\n"
     ]
    }
   ],
   "source": [
    "#pip install gTTS"
   ]
  },
  {
   "cell_type": "code",
   "execution_count": 3,
   "id": "80094d7a-24b7-48cd-aa83-b6485c880d7e",
   "metadata": {
    "collapsed": true,
    "jupyter": {
     "outputs_hidden": true,
     "source_hidden": true
    }
   },
   "outputs": [
    {
     "name": "stdout",
     "output_type": "stream",
     "text": [
      "Collecting pygame\n",
      "  Downloading pygame-2.6.1-cp313-cp313-win_amd64.whl.metadata (13 kB)\n",
      "Downloading pygame-2.6.1-cp313-cp313-win_amd64.whl (10.6 MB)\n",
      "   ---------------------------------------- 0.0/10.6 MB ? eta -:--:--\n",
      "   - -------------------------------------- 0.5/10.6 MB 3.1 MB/s eta 0:00:04\n",
      "   --- ------------------------------------ 1.0/10.6 MB 3.3 MB/s eta 0:00:03\n",
      "   ------ --------------------------------- 1.8/10.6 MB 3.2 MB/s eta 0:00:03\n",
      "   --------- ------------------------------ 2.6/10.6 MB 3.4 MB/s eta 0:00:03\n",
      "   ------------ --------------------------- 3.4/10.6 MB 3.5 MB/s eta 0:00:03\n",
      "   --------------- ------------------------ 4.2/10.6 MB 3.5 MB/s eta 0:00:02\n",
      "   ------------------ --------------------- 5.0/10.6 MB 3.5 MB/s eta 0:00:02\n",
      "   -------------------- ------------------- 5.5/10.6 MB 3.4 MB/s eta 0:00:02\n",
      "   ----------------------- ---------------- 6.3/10.6 MB 3.4 MB/s eta 0:00:02\n",
      "   ------------------------- -------------- 6.8/10.6 MB 3.4 MB/s eta 0:00:02\n",
      "   --------------------------- ------------ 7.3/10.6 MB 3.3 MB/s eta 0:00:01\n",
      "   ------------------------------ --------- 8.1/10.6 MB 3.3 MB/s eta 0:00:01\n",
      "   --------------------------------- ------ 8.9/10.6 MB 3.4 MB/s eta 0:00:01\n",
      "   ----------------------------------- ---- 9.4/10.6 MB 3.3 MB/s eta 0:00:01\n",
      "   ------------------------------------- -- 10.0/10.6 MB 3.3 MB/s eta 0:00:01\n",
      "   ---------------------------------------- 10.6/10.6 MB 3.2 MB/s eta 0:00:00\n",
      "Installing collected packages: pygame\n",
      "Successfully installed pygame-2.6.1\n",
      "Note: you may need to restart the kernel to use updated packages.\n"
     ]
    }
   ],
   "source": [
    "#pip install pygame"
   ]
  },
  {
   "cell_type": "code",
   "execution_count": 27,
   "id": "13f764b8-fa1b-4705-8342-4768a6e358d1",
   "metadata": {},
   "outputs": [],
   "source": [
    "gg.sound_box(200)"
   ]
  },
  {
   "cell_type": "code",
   "execution_count": 10,
   "id": "a2312357-3e25-43e4-8846-66fab4107655",
   "metadata": {},
   "outputs": [],
   "source": [
    "# Exception handling"
   ]
  },
  {
   "cell_type": "code",
   "execution_count": 11,
   "id": "b833cdfe-3ffb-48af-8038-d6a29cbc14ff",
   "metadata": {},
   "outputs": [
    {
     "name": "stdout",
     "output_type": "stream",
     "text": [
      "Invalid Code!!\n"
     ]
    }
   ],
   "source": [
    "age = '23'\n",
    "\n",
    "try:\n",
    "  # print(1/0)\n",
    "  print(vari)\n",
    "  if age >= 18:\n",
    "    print('can vote')\n",
    "  else:\n",
    "    print('can\\'t vote')\n",
    "except TypeError:\n",
    "  print('Something went wrong!!')\n",
    "  print('Invalid datatype comparison!!')\n",
    "\n",
    "except:\n",
    "  print('Invalid Code!!')"
   ]
  },
  {
   "cell_type": "code",
   "execution_count": 12,
   "id": "b9f930b9-0784-48ce-907b-66c5e11c7714",
   "metadata": {},
   "outputs": [],
   "source": [
    "def student_records(**kwargs):\n",
    "  import pandas as pd\n",
    "  try:\n",
    "    data = pd.DataFrame(kwargs)\n",
    "    return data\n",
    "  except:\n",
    "    data = pd.DataFrame(kwargs,index = [1])\n",
    "    return data"
   ]
  },
  {
   "cell_type": "code",
   "execution_count": 13,
   "id": "a3406871-1d4a-4604-8c3a-e5bf951da822",
   "metadata": {},
   "outputs": [
    {
     "data": {
      "text/html": [
       "<div>\n",
       "<style scoped>\n",
       "    .dataframe tbody tr th:only-of-type {\n",
       "        vertical-align: middle;\n",
       "    }\n",
       "\n",
       "    .dataframe tbody tr th {\n",
       "        vertical-align: top;\n",
       "    }\n",
       "\n",
       "    .dataframe thead th {\n",
       "        text-align: right;\n",
       "    }\n",
       "</style>\n",
       "<table border=\"1\" class=\"dataframe\">\n",
       "  <thead>\n",
       "    <tr style=\"text-align: right;\">\n",
       "      <th></th>\n",
       "      <th>Name</th>\n",
       "      <th>Age</th>\n",
       "      <th>Address</th>\n",
       "      <th>Sec</th>\n",
       "    </tr>\n",
       "  </thead>\n",
       "  <tbody>\n",
       "    <tr>\n",
       "      <th>0</th>\n",
       "      <td>Garema</td>\n",
       "      <td>20</td>\n",
       "      <td>Janakpuri</td>\n",
       "      <td>A</td>\n",
       "    </tr>\n",
       "    <tr>\n",
       "      <th>1</th>\n",
       "      <td>Gaurvit</td>\n",
       "      <td>9</td>\n",
       "      <td>Janakpuri</td>\n",
       "      <td>B</td>\n",
       "    </tr>\n",
       "    <tr>\n",
       "      <th>2</th>\n",
       "      <td>Toto</td>\n",
       "      <td>11</td>\n",
       "      <td>Janakpuri</td>\n",
       "      <td>C</td>\n",
       "    </tr>\n",
       "  </tbody>\n",
       "</table>\n",
       "</div>"
      ],
      "text/plain": [
       "      Name  Age    Address Sec\n",
       "0   Garema   20  Janakpuri   A\n",
       "1  Gaurvit    9  Janakpuri   B\n",
       "2     Toto   11  Janakpuri   C"
      ]
     },
     "execution_count": 13,
     "metadata": {},
     "output_type": "execute_result"
    }
   ],
   "source": [
    "student_records(Name = ['Garema','Gaurvit','Toto'],\n",
    "                Age = [20,9,11],\n",
    "                Address = ['Janakpuri','Janakpuri','Janakpuri'],\n",
    "                Sec = list('ABC'))"
   ]
  },
  {
   "cell_type": "code",
   "execution_count": 14,
   "id": "fea95da9-020b-4ff8-acdf-b7de140531ba",
   "metadata": {},
   "outputs": [],
   "source": [
    "def show_time():\n",
    "  try:\n",
    "    while True:\n",
    "      import time\n",
    "      print(time.asctime())\n",
    "      time.sleep(1)\n",
    "      display(clear = True)\n",
    "  except:\n",
    "    print('Timer has been Stopped!!')"
   ]
  },
  {
   "cell_type": "code",
   "execution_count": 16,
   "id": "b029a35c-4c98-4a04-9101-24ca9d1a054a",
   "metadata": {},
   "outputs": [
    {
     "name": "stdout",
     "output_type": "stream",
     "text": [
      "Sat Jul  5 23:51:00 2025\n",
      "Timer has been Stopped!!\n"
     ]
    }
   ],
   "source": [
    "show_time()"
   ]
  },
  {
   "cell_type": "code",
   "execution_count": null,
   "id": "ee6b446c-d2a3-4d5d-a6e5-ea25bcabb274",
   "metadata": {},
   "outputs": [],
   "source": []
  },
  {
   "cell_type": "code",
   "execution_count": null,
   "id": "5d621d7e-1e98-44a9-a8e9-4662592e5986",
   "metadata": {},
   "outputs": [],
   "source": []
  },
  {
   "cell_type": "code",
   "execution_count": null,
   "id": "a4911a9a-72d6-45e6-8484-49b444ba8ae6",
   "metadata": {},
   "outputs": [],
   "source": []
  },
  {
   "cell_type": "code",
   "execution_count": 24,
   "id": "374d9496-e239-4a76-8c21-f7cd38360d08",
   "metadata": {},
   "outputs": [
    {
     "name": "stdout",
     "output_type": "stream",
     "text": [
      "This is Garema Module in Python\n",
      "Info: https://www.google.com/\n",
      "dance\n"
     ]
    }
   ],
   "source": [
    "import garema as gg\n",
    "print(\"dance\")"
   ]
  },
  {
   "cell_type": "code",
   "execution_count": 25,
   "id": "b059c6fc-2d9f-4199-8824-ea802f853fa2",
   "metadata": {},
   "outputs": [
    {
     "data": {
      "text/plain": [
       "76"
      ]
     },
     "execution_count": 25,
     "metadata": {},
     "output_type": "execute_result"
    }
   ],
   "source": [
    "import garema as gg\n",
    "gg.maxx(23,46,76,32)"
   ]
  },
  {
   "cell_type": "code",
   "execution_count": 28,
   "id": "f497bb6f-e138-4c4a-a116-ef2d70440859",
   "metadata": {},
   "outputs": [
    {
     "name": "stdout",
     "output_type": "stream",
     "text": [
      "Done\n"
     ]
    }
   ],
   "source": [
    "from garema import minn\n",
    "print('Done')"
   ]
  },
  {
   "cell_type": "code",
   "execution_count": 29,
   "id": "877015d4-298e-4a13-bd99-99f583249c5c",
   "metadata": {},
   "outputs": [
    {
     "name": "stdout",
     "output_type": "stream",
     "text": [
      "Done\n"
     ]
    }
   ],
   "source": [
    "from garema import *\n",
    "print('Done')"
   ]
  },
  {
   "cell_type": "code",
   "execution_count": 30,
   "id": "a086e7ac-1d88-4b0b-b45c-1c171f41064a",
   "metadata": {},
   "outputs": [
    {
     "name": "stdout",
     "output_type": "stream",
     "text": [
      "done\n"
     ]
    }
   ],
   "source": [
    "import turtle\n",
    "print('done')"
   ]
  },
  {
   "cell_type": "code",
   "execution_count": 1,
   "id": "a7dbf479-9802-4559-acb8-e7e350ae75b4",
   "metadata": {},
   "outputs": [],
   "source": [
    "import turtle\n",
    "for i in range(120):\n",
    "    turtle.speed(0)\n",
    "    turtle.bgcolor('black')\n",
    "    col = ['red','yellow','green','blue','orange']\n",
    "    import random\n",
    "    picked_color = random.choice(col)\n",
    "    turtle.color(picked_color)\n",
    "    turtle.circle(100)\n",
    "    turtle.left(3)"
   ]
  },
  {
   "cell_type": "code",
   "execution_count": 1,
   "id": "47da0903-709c-4b6a-9687-f8dcc0decb19",
   "metadata": {},
   "outputs": [],
   "source": [
    "import turtle\n",
    "for i in range(4):\n",
    "    turtle.circle(100)\n",
    "    turtle.left(90)"
   ]
  },
  {
   "cell_type": "code",
   "execution_count": 1,
   "id": "34d446b3-73c0-4ceb-9933-f49842c1e988",
   "metadata": {},
   "outputs": [],
   "source": [
    "import turtle\n",
    "for i in range(6):\n",
    "    turtle.bgcolor('black')\n",
    "    turtle.color('cyan')\n",
    "    turtle.forward(150)\n",
    "    turtle.left(60)"
   ]
  },
  {
   "cell_type": "code",
   "execution_count": 2,
   "id": "e86a4684-82d1-4b7c-8c8e-bbbcab78c57c",
   "metadata": {},
   "outputs": [],
   "source": [
    "# 1:- Text File\n",
    "#\n",
    "# .py,.html, .csv, .tsv, .css, .java, .c, c++,. json, .js,\n",
    "# 2: Binary File\n",
    "# Software\n",
    "# .pdf, .mp3, mp4, .png, .jpeg, .exe, .zip, .dat, .tar .xlsx, .ppt, .doc, .ipynb"
   ]
  },
  {
   "cell_type": "code",
   "execution_count": 3,
   "id": "3f6dc4ee-e3b1-49f5-98d4-24288c5253f9",
   "metadata": {},
   "outputs": [],
   "source": [
    "# handling:- read, write, copy, append, delete, open, new"
   ]
  },
  {
   "cell_type": "code",
   "execution_count": 1,
   "id": "b5f7228d-02ec-4718-9184-0b3bfd645255",
   "metadata": {},
   "outputs": [],
   "source": [
    "file = open('garema.py',mode = 'r')"
   ]
  },
  {
   "cell_type": "code",
   "execution_count": 2,
   "id": "42d6972d-e1db-4f82-a53b-8a47426dad3b",
   "metadata": {},
   "outputs": [
    {
     "name": "stdout",
     "output_type": "stream",
     "text": [
      "print('''This is Garema Module in Python\n",
      "Info: https://www.google.com/''')\n",
      "\n",
      "#def_1\n",
      "def sound_box(pai\n"
     ]
    }
   ],
   "source": [
    "file = open('garema.py',mode = 'r')\n",
    "print(file.read(100))\n",
    "file.close()"
   ]
  },
  {
   "cell_type": "code",
   "execution_count": 3,
   "id": "9ba72741-1eb4-46ae-99dd-b6ab6f529f27",
   "metadata": {},
   "outputs": [],
   "source": [
    "f = open('garema.py',mode = 'r')"
   ]
  },
  {
   "cell_type": "code",
   "execution_count": 4,
   "id": "e80b76b6-7a8f-44ef-bbf6-7530741df43b",
   "metadata": {},
   "outputs": [
    {
     "name": "stdout",
     "output_type": "stream",
     "text": [
      "print('''This is Garema Module in Python\n",
      "\n"
     ]
    }
   ],
   "source": [
    "print(f.readline())"
   ]
  },
  {
   "cell_type": "code",
   "execution_count": 5,
   "id": "93f666cc-afc8-407e-b221-dd0f69e8ac54",
   "metadata": {},
   "outputs": [
    {
     "name": "stdout",
     "output_type": "stream",
     "text": [
      "print('''This is Garema Module in Python\n",
      "\n",
      "Info: https://www.google.com/''')\n",
      "\n",
      "\n",
      "\n",
      "#def_1\n",
      "\n",
      "def sound_box(paisa,platform = 'Paytm'):\n",
      "\n",
      "    from gtts import gTTS\n",
      "\n",
      "    text  = f'''{platform} par {paisa} rs Prapt hue.'''\n",
      "\n",
      "    audio = gTTS(text)\n",
      "\n",
      "    audio.save('paytm.mp3')\n",
      "\n",
      "\n",
      "\n"
     ]
    }
   ],
   "source": [
    "f = open('garema.py',mode = 'r')\n",
    "for i in range(10):\n",
    "    print(f.readline())"
   ]
  },
  {
   "cell_type": "code",
   "execution_count": 7,
   "id": "b3f89b47-ac49-494f-bfff-d6ab49d0894b",
   "metadata": {},
   "outputs": [
    {
     "name": "stdout",
     "output_type": "stream",
     "text": [
      "print('''This is Garema Module in Python\n",
      "\n",
      "Info: https://www.google.com/''')\n",
      "\n",
      "\n",
      "\n",
      "#def_1\n",
      "\n",
      "def sound_box(paisa,platform = 'Paytm'):\n",
      "\n",
      "    from gtts import gTTS\n",
      "\n",
      "    text  = f'''{platform} par {paisa} rs Prapt hue.'''\n",
      "\n",
      "    audio = gTTS(text)\n",
      "\n",
      "    audio.save('paytm.mp3')\n",
      "\n",
      "\n",
      "\n"
     ]
    }
   ],
   "source": [
    "f = open('garema.py',mode = 'r')\n",
    "for i in range(10):\n",
    "    print(f.readline())"
   ]
  },
  {
   "cell_type": "code",
   "execution_count": 9,
   "id": "c5c91969-075a-4f0f-9797-2c46aefdc9a8",
   "metadata": {},
   "outputs": [
    {
     "name": "stdout",
     "output_type": "stream",
     "text": [
      "    audio = gTTS(text)\n",
      "\n"
     ]
    }
   ],
   "source": [
    "f = open('garema.py',mode = 'r')\n",
    "for i in range(10):\n",
    "    if i == 7: #line no 8\n",
    "        print(f.readline())\n",
    "    else:\n",
    "        f.readline()"
   ]
  },
  {
   "cell_type": "code",
   "execution_count": 11,
   "id": "3eb17315-710a-420b-8b6f-01d302d780d5",
   "metadata": {},
   "outputs": [
    {
     "name": "stdout",
     "output_type": "stream",
     "text": [
      "done\n"
     ]
    }
   ],
   "source": [
    "f = open('garema.py',mode = 'r')\n",
    "\n",
    "data = f.readlines()\n",
    "\n",
    "f.close()\n",
    "print('done')"
   ]
  },
  {
   "cell_type": "code",
   "execution_count": null,
   "id": "62764786-910e-4c75-814a-37052adbbd7e",
   "metadata": {},
   "outputs": [],
   "source": []
  }
 ],
 "metadata": {
  "kernelspec": {
   "display_name": "Python 3 (ipykernel)",
   "language": "python",
   "name": "python3"
  },
  "language_info": {
   "codemirror_mode": {
    "name": "ipython",
    "version": 3
   },
   "file_extension": ".py",
   "mimetype": "text/x-python",
   "name": "python",
   "nbconvert_exporter": "python",
   "pygments_lexer": "ipython3",
   "version": "3.13.5"
  }
 },
 "nbformat": 4,
 "nbformat_minor": 5
}
