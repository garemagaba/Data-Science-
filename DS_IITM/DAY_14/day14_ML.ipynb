{
 "cells": [
  {
   "cell_type": "code",
   "execution_count": 2,
   "id": "d30634f1-2c88-4e51-8fdc-02c7d78f7929",
   "metadata": {},
   "outputs": [
    {
     "name": "stdout",
     "output_type": "stream",
     "text": [
      "Collecting cowsay\n",
      "  Downloading cowsay-6.1-py3-none-any.whl.metadata (5.6 kB)\n",
      "Downloading cowsay-6.1-py3-none-any.whl (25 kB)\n",
      "Installing collected packages: cowsay\n",
      "Successfully installed cowsay-6.1\n",
      "Note: you may need to restart the kernel to use updated packages.\n"
     ]
    }
   ],
   "source": [
    "pip install cowsay"
   ]
  },
  {
   "cell_type": "code",
   "execution_count": 7,
   "id": "30a53ab9-6813-407b-a81c-ee0fc9b22807",
   "metadata": {},
   "outputs": [
    {
     "name": "stdout",
     "output_type": "stream",
     "text": [
      "  ___\n",
      "| Moo |\n",
      "  ===\n",
      "   \\\n",
      "    \\\n",
      "      ^__^\n",
      "      (oo)\\_______\n",
      "      (__)\\       )\\/\\\n",
      "          ||----w |\n",
      "          ||     ||\n"
     ]
    }
   ],
   "source": [
    "import cowsay\n",
    "cowsay.cow('Moo')"
   ]
  },
  {
   "cell_type": "code",
   "execution_count": 8,
   "id": "2277ad97-3511-4f99-abce-66de05587082",
   "metadata": {},
   "outputs": [
    {
     "name": "stdout",
     "output_type": "stream",
     "text": [
      "  ____\n",
      "| HeHe |\n",
      "  ====\n",
      "           \\\n",
      "            \\\n",
      "             \\\n",
      "              \\\n",
      "                 .-=-==--==--.\n",
      "           ..-==\"  ,'o`)      `.\n",
      "         ,'         `\"'         \\\n",
      "        :  (                     `.__...._\n",
      "        |                  )    /         `-=-.\n",
      "        :       ,vv.-._   /    /               `---==-._\n",
      "         \\/\\/\\/VV ^ d88`;'    /                         `.\n",
      "             ``  ^/d88P!'    /             ,              `._\n",
      "                ^/    !'   ,.      ,      /                  \"-,,__,,--'\"\"\"\"-.\n",
      "               ^/    !'  ,'  \\ . .(      (         _           )  ) ) ) ))_,-.\\\n",
      "              ^(__ ,!',\"'   ;:+.:%:a.     \\:.. . ,'          )  )  ) ) ,\"'    '\n",
      "              ',,,'','     /o:::\":%:%a.    \\:.:.:         .    )  ) _,'\n",
      "               \"\"\"'       ;':::'' `+%%%a._  \\%:%|         ;.). _,-\"\"\n",
      "                      ,-='_.-'      ``:%::)  )%:|        /:._,\"\n",
      "                     (/(/\"           ,\" ,'_,'%%%:       (_,'\n",
      "                                    (  (//(`.___;        \\\n",
      "                                     \\     \\    `         `\n",
      "                                      `.    `.   `.        :\n",
      "                                        \\. . .\\    : . . . :\n",
      "                                         \\. . .:    `.. . .:\n",
      "                                          `..:.:\\     \\:...\\\n",
      "                                           ;:.:.;      ::...:\n",
      "                                           ):%::       :::::;\n",
      "                                       __,::%:(        :::::\n",
      "                                    ,;:%%%%%%%:        ;:%::\n",
      "                                      ;,--\"\"-.`\\  ,=--':%:%:\\\n",
      "                                     /\"       \"| /-\".:%%%%%%%\\\n",
      "                                                     ;,-\"'`)%%)\n",
      "                                                    /\"      \"|\n"
     ]
    }
   ],
   "source": [
    "cowsay.trex('HeHe')"
   ]
  },
  {
   "cell_type": "code",
   "execution_count": 11,
   "id": "a00f3bfb-2a77-43bc-8e90-533e412e4745",
   "metadata": {},
   "outputs": [],
   "source": [
    "import IPython"
   ]
  },
  {
   "cell_type": "code",
   "execution_count": 16,
   "id": "a5c43cad-c7c5-48bf-9e2a-1f1dba53c720",
   "metadata": {},
   "outputs": [
    {
     "name": "stdout",
     "output_type": "stream",
     "text": [
      "  _____\n",
      "| hello |\n",
      "  =====\n",
      "     \\\n",
      "      \\                  &************************&\n",
      "       \\             &******************************&\n",
      "        \\          &**********************************&\n",
      "                 &**************************************&\n",
      "               &*****************************************&\n",
      "              &*******************************************&\n",
      "             &*********************************************&\n",
      "            &***********************************************&\n",
      "           &************************************************&\n",
      "           &***#########********#########*******************&\n",
      "           &*##       ##########          ##################&\n",
      "           &*##   O   ##@**####   O       ##***************&\n",
      "           &***#########@*******#########*****************&\n",
      "           &***********@*********************************&\n",
      "           &**********@*********************************&\n",
      "           &*********@*********************************&\n",
      "           &********@@*********************************&\n",
      "            &*******@@@@@@****************************&\n",
      "             &**************************************&\n",
      "               &**************************************&\n",
      "                &******@@@@@@@@@@@@*********************&\n",
      "                  &*************************************&\n",
      "                    &************************************&\n",
      "                          &*******************************&\n",
      "                            &*****************************&\n"
     ]
    }
   ],
   "source": [
    "cowsay.miki('hello')"
   ]
  },
  {
   "cell_type": "code",
   "execution_count": 17,
   "id": "8e7c9c1f-5553-47d5-9b8b-8c5df147ab3a",
   "metadata": {},
   "outputs": [
    {
     "name": "stdout",
     "output_type": "stream",
     "text": [
      "  _______\n",
      "| strong! |\n",
      "  =======\n",
      "       \\\n",
      "        \\\n",
      "         \\\n",
      "          \\\n",
      "              ____________\n",
      "              |__________|\n",
      "             /           /\\\n",
      "            /           /  \\\n",
      "           /___________/___/|\n",
      "           |          |     |\n",
      "           |  ==\\ /== |     |\n",
      "           |   O   O  | \\ \\ |\n",
      "           |     <    |  \\ \\|\n",
      "          /|          |   \\ \\\n",
      "         / |  \\_____/ |   / /\n",
      "        / /|          |  / /|\n",
      "       /||\\|          | /||\\/\n",
      "           -------------|\n",
      "               | |    | |\n",
      "              <__/    \\__>\n"
     ]
    }
   ],
   "source": [
    "cowsay.milk('strong!')"
   ]
  },
  {
   "cell_type": "code",
   "execution_count": 19,
   "id": "270fc453-6d86-4c8f-8976-4ea843352c04",
   "metadata": {},
   "outputs": [
    {
     "name": "stdout",
     "output_type": "stream",
     "text": [
      "  _______________\n",
      "| slow and steady |\n",
      "  ===============\n",
      "                 \\\n",
      "                  \\\n",
      "                   \\\n",
      "                    \\\n",
      "                                               ___-------___\n",
      "                                           _-~~             ~~-_\n",
      "                                        _-~                    /~-_\n",
      "                      /^\\__/^\\         /~  \\                   /    \\\n",
      "                    /|  O|| O|        /      \\_______________/        \\\n",
      "                   | |___||__|      /       /                \\          \\\n",
      "                   |          \\    /      /                    \\          \\\n",
      "                   |   (_______) /______/                        \\_________ \\\n",
      "                   |         / /         \\                      /            \\\n",
      "                    \\         \\^\\\\         \\                  /               \\     /\n",
      "                      \\         ||           \\______________/      _-_       //\\__//\n",
      "                        \\       ||------_-~~-_ ------------- \\ --/~   ~\\    || __/\n",
      "                          ~-----||====/~     |==================|       |/~~~~~\n",
      "                           (_(__/  ./     /                    \\_\\      \\.\n",
      "                                  (_(___/                         \\_____)_)\n"
     ]
    }
   ],
   "source": [
    "cowsay.turtle('slow and steady')"
   ]
  },
  {
   "cell_type": "code",
   "execution_count": 21,
   "id": "97b8431e-96e8-4207-b902-17e9407c1859",
   "metadata": {},
   "outputs": [
    {
     "data": {
      "image/jpeg": "[encoded data removed]",
      "text/html": [
       "\n",
       "        <iframe\n",
       "            width=\"400\"\n",
       "            height=\"300\"\n",
       "            src=\"https://www.youtube.com/embed/blH5execR7U\"\n",
       "            frameborder=\"0\"\n",
       "            allowfullscreen\n",
       "            \n",
       "        ></iframe>\n",
       "        "
      ],
      "text/plain": [
       "<IPython.lib.display.YouTubeVideo at 0x2cef73de780>"
      ]
     },
     "execution_count": 21,
     "metadata": {},
     "output_type": "execute_result"
    }
   ],
   "source": [
    "IPython.display.YouTubeVideo('blH5execR7U', allow_autoplay = False)"
   ]
  },
  {
   "cell_type": "code",
   "execution_count": 22,
   "id": "879b0bfb-0a83-4c61-8b2d-d1e45da83e7f",
   "metadata": {},
   "outputs": [],
   "source": [
    "#Machine Learning: Data Science()\n",
    "#Supervised ML, Unsupervised ML and Reinforcement ML \n",
    "#Science of understanding data is called data science, understanding statistics\n",
    "#Data Anotation Engineer"
   ]
  },
  {
   "cell_type": "code",
   "execution_count": null,
   "id": "9cb2fd2d-e394-40cb-908d-9eb0c176011a",
   "metadata": {},
   "outputs": [],
   "source": []
  }
 ],
 "metadata": {
  "kernelspec": {
   "display_name": "Python 3 (ipykernel)",
   "language": "python",
   "name": "python3"
  },
  "language_info": {
   "codemirror_mode": {
    "name": "ipython",
    "version": 3
   },
   "file_extension": ".py",
   "mimetype": "text/x-python",
   "name": "python",
   "nbconvert_exporter": "python",
   "pygments_lexer": "ipython3",
   "version": "3.13.5"
  }
 },
 "nbformat": 4,
 "nbformat_minor": 5
}
