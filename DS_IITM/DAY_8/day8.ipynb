{
 "cells": [
  {
   "cell_type": "code",
   "execution_count": null,
   "id": "47556aad-c7dd-457e-8fbb-8eaeadb49dcf",
   "metadata": {},
   "outputs": [],
   "source": [
    "#Web Page Contains - Header, Footer, Main Page{Index Page - Consist of main informations}\n",
    "#Web Scraping - Using languages - HTML, CSS and JavaScript  "
   ]
  },
  {
   "cell_type": "code",
   "execution_count": null,
   "id": "68d35863-d8c3-4c5e-969a-9c480e06c1ea",
   "metadata": {},
   "outputs": [],
   "source": [
    "import requests as r\n",
    "url = '''https://en.wikipedia.org/wiki/List_of_Indians_by_net_worth'''\n",
    "\n",
    "response = r.get(url)   #if <Response [200] - success!! data can be extracted\n",
    "response"
   ]
  },
  {
   "cell_type": "code",
   "execution_count": null,
   "id": "7ecd76f7-cd5c-43bc-b7bb-f0c6c7dda3e0",
   "metadata": {},
   "outputs": [],
   "source": [
    "html_data = response.content\n",
    "print(html_data"
   ]
  },
  {
   "cell_type": "code",
   "execution_count": null,
   "id": "c2a990a7-07da-446d-b185-1f7eb4ed2722",
   "metadata": {},
   "outputs": [],
   "source": [
    "#pip install beautifulsoup4"
   ]
  },
  {
   "cell_type": "code",
   "execution_count": null,
   "id": "3de66761-f7a3-46a8-945b-1e742c1c6530",
   "metadata": {},
   "outputs": [],
   "source": [
    "from bs4 import BeautifulSoup\n",
    "soup = BeautifulSoup(html_data)\n",
    "print('Done')"
   ]
  },
  {
   "cell_type": "code",
   "execution_count": null,
   "id": "baf08bde-ea4b-489f-bdbe-76d9ca3eba2d",
   "metadata": {},
   "outputs": [],
   "source": [
    "soup.find_all('table',class_ = 'wikitable sortable jquery-tablesorter')"
   ]
  },
  {
   "cell_type": "code",
   "execution_count": null,
   "id": "17dcd0cc-3e28-46da-a47e-28ae8b1e1b05",
   "metadata": {},
   "outputs": [],
   "source": [
    "for i in soup.find_all('tr'):\n",
    "    print(i.text)"
   ]
  },
  {
   "cell_type": "code",
   "execution_count": null,
   "id": "2b86700e-6cd8-41a7-9a4b-d3b8fb180970",
   "metadata": {},
   "outputs": [],
   "source": [
    "students = ['ram', 'shyam', 'raj', 'jay']\n",
    "for index_no,value in enumerate(students):\n",
    "  if 1<= index_no <= 2:\n",
    "    print(index_no,value)"
   ]
  },
  {
   "cell_type": "code",
   "execution_count": 57,
   "id": "c3a23d06-72f4-40d2-9f60-c079cdf981d8",
   "metadata": {},
   "outputs": [
    {
     "name": "stdout",
     "output_type": "stream",
     "text": [
      "Done\n"
     ]
    }
   ],
   "source": [
    "all_data = []\n",
    "for index_no, value in enumerate(soup.find_all('tr')):  #enumerate function: breaks list/tuple in part\n",
    "    if 0 <= index_no <= 24:\n",
    "        #print(index_no,  value.text)\n",
    "        #print(value.text.splitlines())\n",
    "        temp_data = value.text.splitlines() #multiple line data is split to be used efficiently\n",
    "\n",
    "        while '' in temp_data:\n",
    "          temp_data.remove('')\n",
    "\n",
    "     \n",
    "        all_data.append(temp_data)\n",
    "\n",
    "print('Done')\n",
    "   "
   ]
  },
  {
   "cell_type": "code",
   "execution_count": null,
   "id": "bdde8b1a-9a11-4eab-a564-4828543499b1",
   "metadata": {},
   "outputs": [],
   "source": [
    "column = all_data[0] #\n",
    "final_data = all_data[1:] #to align the data correctly and to hatao none"
   ]
  },
  {
   "cell_type": "code",
   "execution_count": null,
   "id": "719fce9e-949c-4d49-a685-3fe3ac01d4ae",
   "metadata": {},
   "outputs": [],
   "source": [
    "import pandas as p\n",
    "final_columns = ('Rank','Name','Net Worth(USD)','Company Name','Source Of Wealth','None','None')\n",
    "rich_list = p.DataFrame(final_data, columns = final_columns)\n",
    "final_df = rich_list.drop('None', axis = 1) #for columns \n",
    "final_df.to_excel('rich_list.xlsx')\n",
    "print('done')"
   ]
  },
  {
   "cell_type": "code",
   "execution_count": null,
   "id": "208e2c9b-480e-408e-aa07-f7de466c0bf5",
   "metadata": {},
   "outputs": [],
   "source": [
    "import pymysql as py\n",
    "conn = py.connect(host = 'localhost',\n",
    "                  user = 'root',\n",
    "                  password = '200527',\n",
    "                  autocommit = True)\n",
    "\n",
    "cur = conn.cursor() #object handler from sql otherwise we will have to write connection.cursor.execute over and over again\n",
    "print('Done')\n"
   ]
  },
  {
   "cell_type": "code",
   "execution_count": 82,
   "id": "9c119504-8017-489f-95ed-69ce961037fd",
   "metadata": {},
   "outputs": [
    {
     "name": "stdout",
     "output_type": "stream",
     "text": [
      "done\n"
     ]
    }
   ],
   "source": [
    "query = 'Create Database Wikipedia_1'\n",
    "\n",
    "cur.execute(query)\n",
    "print('done')"
   ]
  },
  {
   "cell_type": "code",
   "execution_count": 89,
   "id": "a9af0e46-13eb-4d5b-b378-7175f42ed968",
   "metadata": {},
   "outputs": [
    {
     "data": {
      "text/plain": [
       "['rich_Rank',\n",
       " 'rich_Name',\n",
       " 'rich_Net_Worth1',\n",
       " 'rich_Company_Name',\n",
       " 'rich_Source_Of_Wealth']"
      ]
     },
     "execution_count": 89,
     "metadata": {},
     "output_type": "execute_result"
    }
   ],
   "source": [
    "table_column = [ 'rich_' + i.replace(' ','_').replace('(USD)','1') for i in final_df.columns]\n",
    "table_column  #to rectify error and problems called list comprehension"
   ]
  },
  {
   "cell_type": "code",
   "execution_count": 90,
   "id": "0731e381-e9bd-47c9-a5e9-6cf9bece8112",
   "metadata": {},
   "outputs": [
    {
     "name": "stdout",
     "output_type": "stream",
     "text": [
      "create table Wikipedia_1.rich_list(rich_Rank varchar(255),rich_Name varchar(255),rich_Net_Worth1 varchar(255),rich_Company_Name varchar(255),rich_Source_Of_Wealth varchar(255));\n"
     ]
    }
   ],
   "source": [
    "query_part = ' varchar(255),'.join(table_column) + ' varchar(255)'\n",
    "\n",
    "query = '''create table Wikipedia_1.rich_list(''' + query_part +');'\n",
    "print(query)"
   ]
  },
  {
   "cell_type": "code",
   "execution_count": 91,
   "id": "891350d3-4c65-402e-b626-ddf7f23a7e3a",
   "metadata": {},
   "outputs": [
    {
     "name": "stdout",
     "output_type": "stream",
     "text": [
      "Done\n"
     ]
    }
   ],
   "source": [
    "cur.execute(query)\n",
    "print('Done')"
   ]
  },
  {
   "cell_type": "code",
   "execution_count": 101,
   "id": "f1e93b9d-c2bf-475b-97f7-c82288bccbc7",
   "metadata": {},
   "outputs": [
    {
     "name": "stdout",
     "output_type": "stream",
     "text": [
      "done\n"
     ]
    }
   ],
   "source": [
    "for i in final_df.itertuples():  #itertuples = it iterates rows of the data one by one\n",
    "    value =tuple(i[1:]) \n",
    "    \n",
    "    query = f'''insert into Wikipedia_1.rich_list values{value};'''\n",
    "    cur.execute(query)\n",
    "print('done')"
   ]
  },
  {
   "cell_type": "code",
   "execution_count": null,
   "id": "8463d5ab-d917-4401-8edf-e76cf50c1bf5",
   "metadata": {},
   "outputs": [],
   "source": [
    "#ANN, CNN, RNN, CAN, GEN AI"
   ]
  },
  {
   "cell_type": "code",
   "execution_count": null,
   "id": "9cf871b0-b8e1-465a-9ab8-375d32ee03f2",
   "metadata": {},
   "outputs": [],
   "source": []
  }
 ],
 "metadata": {
  "kernelspec": {
   "display_name": "Python 3 (ipykernel)",
   "language": "python",
   "name": "python3"
  },
  "language_info": {
   "codemirror_mode": {
    "name": "ipython",
    "version": 3
   },
   "file_extension": ".py",
   "mimetype": "text/x-python",
   "name": "python",
   "nbconvert_exporter": "python",
   "pygments_lexer": "ipython3",
   "version": "3.13.5"
  }
 },
 "nbformat": 4,
 "nbformat_minor": 5
}
