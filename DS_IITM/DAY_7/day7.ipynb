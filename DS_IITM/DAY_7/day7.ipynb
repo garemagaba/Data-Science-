{
 "cells": [
  {
   "cell_type": "code",
   "execution_count": 1,
   "id": "7d203e84-84af-4e51-a323-5c94bae2135c",
   "metadata": {},
   "outputs": [],
   "source": [
    "#Inheritance: Code reusability"
   ]
  },
  {
   "cell_type": "code",
   "execution_count": 3,
   "id": "09e18138-214b-4c2a-884f-4a3f39261cec",
   "metadata": {},
   "outputs": [],
   "source": [
    "#Normal Class creation\n",
    "class A:\n",
    "     def i_am_a():\n",
    "         print('I am a func of class A')\n",
    "\n",
    "class B:\n",
    "    def i_am_b():\n",
    "        print('I am b func of class B')\n",
    "\n",
    "#Life Tip: Interview Edition: Ever asked about example of something?\n",
    "#Pro Tip: Instead of defining to numbers, answer multiple and answer the ones you know!!\n",
    "#Example: Type of Inheritance? 5, 4 (X): THIS IS A RISKY ANSWER, why? \n",
    "#What if you forget it, that can happen right? so instead answer there are multiple types!! Ans answer the ones that you're aware about!"
   ]
  },
  {
   "cell_type": "code",
   "execution_count": 4,
   "id": "d87424bf-8d99-421b-9a9f-0c21b707abe0",
   "metadata": {},
   "outputs": [],
   "source": [
    "ob_a = A()\n",
    "ob_b = B()"
   ]
  },
  {
   "cell_type": "code",
   "execution_count": 16,
   "id": "ce3b2282-b03e-4a22-aeaf-245886ca78a6",
   "metadata": {},
   "outputs": [],
   "source": [
    "#Simple Inheritance \n",
    "\n",
    "class BMW:  #Parent Class, Main Class, Super Class, Base Class\n",
    "\n",
    "    def super_turbo_engine(self):\n",
    "        print('super_turbo_engine Fast Speed')\n",
    "\n",
    "class Audi(BMW):    #Inherited Class BMW  #Child Class, Sub Class\n",
    "    def auto_pilot(self):\n",
    "        print('Can run on Auto Pilot mode')\n",
    "    "
   ]
  },
  {
   "cell_type": "code",
   "execution_count": 17,
   "id": "ce428ddf-78e5-4d0e-80ea-a0e5e0b32ee0",
   "metadata": {},
   "outputs": [],
   "source": [
    "audi_car = Audi()"
   ]
  },
  {
   "cell_type": "code",
   "execution_count": 18,
   "id": "e066f2af-adb4-4082-a486-8a5015f80d70",
   "metadata": {},
   "outputs": [
    {
     "name": "stdout",
     "output_type": "stream",
     "text": [
      "Can run on Auto Pilot mode\n"
     ]
    }
   ],
   "source": [
    "audi_car.auto_pilot()"
   ]
  },
  {
   "cell_type": "code",
   "execution_count": 19,
   "id": "5f017787-1c8e-4faa-8aec-396a30e912c3",
   "metadata": {},
   "outputs": [
    {
     "name": "stdout",
     "output_type": "stream",
     "text": [
      "super_turbo_engine Fast Speed\n"
     ]
    }
   ],
   "source": [
    "audi_car.super_turbo_engine()"
   ]
  },
  {
   "cell_type": "code",
   "execution_count": 59,
   "id": "ea974b8c-adf0-483f-bd2f-389aec7cc8fc",
   "metadata": {},
   "outputs": [],
   "source": [
    "#Multiple Inheritance\n",
    "\n",
    "\n",
    "class Smart_Phone:\n",
    "    pass #to pass an argument later\n",
    "\n",
    "class Daily_Object:\n",
    "    def phone_case(self):\n",
    "        print('Build a Strong Phone Case')\n",
    "\n",
    "class JBL:\n",
    "    def sonic_speaker(self):\n",
    "        print('High Quality Sound Speaker')\n",
    "\n",
    "class Samsung:\n",
    "    def Screen_Display(self):\n",
    "        print('4K HD Display')\n",
    "\n",
    "class Nvidia:\n",
    "    def Mother_Board(self):\n",
    "        print('Fast Mother Board')\n",
    "\n",
    "class Sony:\n",
    "    def Camera(self):\n",
    "        print('4K Camera')\n",
    "\n",
    "class Lava:\n",
    "    def charger(self):\n",
    "        print('Super Fast Charger: Lava Company')\n",
    "\n",
    "class One_Plus:\n",
    "    def charger(self):\n",
    "        print('Original Super Fast Charger: One Plus Company')\n",
    "\n",
    "class Smart_Phone(Daily_Object, JBL, Samsung, Nvidia, Sony, Lava, One_Plus):\n",
    "    def __init__(self):\n",
    "        print('Smart Phone Object Created Successfully!!')\n",
    "        \n",
    "        \n",
    "    def charger(self):   #Now as the code has a class of any feature, it's going to pick the it's class feature!\n",
    "        print('Original Charger')"
   ]
  },
  {
   "cell_type": "code",
   "execution_count": 60,
   "id": "821edebb-86d9-40a9-8913-f88baf472cc3",
   "metadata": {},
   "outputs": [
    {
     "name": "stdout",
     "output_type": "stream",
     "text": [
      "Smart Phone Object Created Successfully!!\n"
     ]
    }
   ],
   "source": [
    "nothing = Smart_Phone()"
   ]
  },
  {
   "cell_type": "code",
   "execution_count": 61,
   "id": "5fe0f9ff-8ce4-402b-b88a-2db5730fcdc7",
   "metadata": {},
   "outputs": [
    {
     "name": "stdout",
     "output_type": "stream",
     "text": [
      "4K Camera\n"
     ]
    }
   ],
   "source": [
    "nothing.Camera()"
   ]
  },
  {
   "cell_type": "code",
   "execution_count": 62,
   "id": "9003457e-069b-4d06-94e0-35671ade74b5",
   "metadata": {},
   "outputs": [
    {
     "name": "stdout",
     "output_type": "stream",
     "text": [
      "Original Charger\n"
     ]
    }
   ],
   "source": [
    "nothing.charger()"
   ]
  },
  {
   "cell_type": "code",
   "execution_count": 82,
   "id": "b6eaf0b2-f56c-45d3-b28e-136598f9a9ba",
   "metadata": {},
   "outputs": [],
   "source": [
    "#Multilevel Inheritance\n",
    "\n",
    "class Grandfather:\n",
    "    def land_property(self):\n",
    "        print('Land Property!')\n",
    "\n",
    "class Father(Grandfather):\n",
    "    def bank_balance(self):\n",
    "        print('Big Money Player, Huge Bank Balance')\n",
    "\n",
    "class Son(Father):\n",
    "    def political_power(self):\n",
    "        print('Political Powers')\n",
    "\n",
    "class Grandson(Son):\n",
    "    def mind(self):\n",
    "        print('Mind for self study!')\n",
    "\n",
    "class Friend(Grandson):\n",
    "    def __init__(self):\n",
    "        #self._land_property\n",
    "        print('something? nothing?')\n",
    "\n",
    "    def show_benefit(self):\n",
    "        print(f'''friends benefits:{self.land_property}''')"
   ]
  },
  {
   "cell_type": "code",
   "execution_count": 83,
   "id": "296feddb-be9c-4dcd-8ad4-a872936b34ed",
   "metadata": {},
   "outputs": [],
   "source": [
    "aman = Grandson()"
   ]
  },
  {
   "cell_type": "code",
   "execution_count": 84,
   "id": "5a2e9398-9d6f-48fb-a65c-756c18ffa885",
   "metadata": {},
   "outputs": [
    {
     "name": "stdout",
     "output_type": "stream",
     "text": [
      "Land Property!\n"
     ]
    }
   ],
   "source": [
    "aman.land_property()"
   ]
  },
  {
   "cell_type": "code",
   "execution_count": null,
   "id": "403fd207-3c1f-4335-abf5-3cb18c9be15a",
   "metadata": {},
   "outputs": [],
   "source": []
  },
  {
   "cell_type": "code",
   "execution_count": null,
   "id": "74fbe11a-9d8f-4e71-ae6e-0dfe7fdc1318",
   "metadata": {},
   "outputs": [],
   "source": []
  },
  {
   "cell_type": "code",
   "execution_count": 92,
   "id": "15a537c9-1e37-47a4-b021-28e9f56f5eb2",
   "metadata": {},
   "outputs": [],
   "source": [
    "#Hybrid Inheritance\n",
    "\n",
    "class Hybrid(Smart_Phone, Friend, Audi): #[Inheritance: Multiple, Multilevel, Simple] \n",
    "    \n",
    "    def __init__(self):\n",
    "        print('This is a hybrid class')\n",
    "\n",
    "    def info(self):\n",
    "        print('It can call any methods')\n",
    "        "
   ]
  },
  {
   "cell_type": "code",
   "execution_count": 93,
   "id": "d7dbf3ca-ca9a-4bbb-b73f-cba5387f14bc",
   "metadata": {},
   "outputs": [
    {
     "name": "stdout",
     "output_type": "stream",
     "text": [
      "This is a hybrid class\n"
     ]
    }
   ],
   "source": [
    "ob = Hybrid()"
   ]
  },
  {
   "cell_type": "code",
   "execution_count": 94,
   "id": "7751deae-ac17-47ac-ac40-e518b432816e",
   "metadata": {},
   "outputs": [
    {
     "name": "stdout",
     "output_type": "stream",
     "text": [
      "It can call any methods\n"
     ]
    }
   ],
   "source": [
    "ob.info()"
   ]
  },
  {
   "cell_type": "code",
   "execution_count": 96,
   "id": "0ce1ffce-24cb-4981-8dda-f4bd3361dee8",
   "metadata": {},
   "outputs": [],
   "source": [
    "class UGC:\n",
    "    def __init__(self):\n",
    "        print(\"Grant Permission\")\n",
    "    def college_approved(self):\n",
    "        print('college has been approved')\n",
    "\n",
    "class DU(UGC):\n",
    "    def multiple_college(self):\n",
    "        print('list of colleges')\n",
    "\n",
    "class IPU(UGC):\n",
    "    def multiple_college(self):\n",
    "        print('list of colleges')\n",
    "\n",
    "class DTU(UGC):\n",
    "    def multiple_college(self):\n",
    "        print('list of colleges')\n",
    "\n",
    "class BHU(UGC):\n",
    "    def multiple_college(self):\n",
    "        print('list of colleges')"
   ]
  },
  {
   "cell_type": "code",
   "execution_count": 97,
   "id": "db33eced-f276-4951-a696-021fd684ca58",
   "metadata": {},
   "outputs": [
    {
     "data": {
      "text/plain": [
       "27"
      ]
     },
     "execution_count": 97,
     "metadata": {},
     "output_type": "execute_result"
    }
   ],
   "source": [
    "#Polymorphism\n",
    "\n",
    "a = 20\n",
    "b = 7\n",
    "a+b"
   ]
  },
  {
   "cell_type": "code",
   "execution_count": 99,
   "id": "e282624d-8fd2-448f-afe2-2f91067e97e6",
   "metadata": {},
   "outputs": [
    {
     "data": {
      "text/plain": [
       "'2704'"
      ]
     },
     "execution_count": 99,
     "metadata": {},
     "output_type": "execute_result"
    }
   ],
   "source": [
    "a = '27'\n",
    "b = '04'\n",
    "a+b\n"
   ]
  },
  {
   "cell_type": "code",
   "execution_count": 101,
   "id": "68fa29e8-d156-4b38-9f79-0896d5e46bf3",
   "metadata": {},
   "outputs": [
    {
     "data": {
      "text/plain": [
       "[27, 4, 2005, 21, 6, 2016]"
      ]
     },
     "execution_count": 101,
     "metadata": {},
     "output_type": "execute_result"
    }
   ],
   "source": [
    "a = [27,4,2005]\n",
    "b = [21,6,2016]\n",
    "a+b"
   ]
  },
  {
   "cell_type": "code",
   "execution_count": 102,
   "id": "d7464175-cd63-42ad-874d-5ab16f72f2c4",
   "metadata": {},
   "outputs": [
    {
     "data": {
      "text/plain": [
       "11"
      ]
     },
     "execution_count": 102,
     "metadata": {},
     "output_type": "execute_result"
    }
   ],
   "source": [
    "a = 'Garema Gaba'\n",
    "len(a)"
   ]
  },
  {
   "cell_type": "code",
   "execution_count": 103,
   "id": "c40a71af-a4e7-47ff-bb3d-983a286c977e",
   "metadata": {},
   "outputs": [
    {
     "data": {
      "text/plain": [
       "2"
      ]
     },
     "execution_count": 103,
     "metadata": {},
     "output_type": "execute_result"
    }
   ],
   "source": [
    "a = ['Garema Gaba', 'Gaurvit Gaba']\n",
    "len(a)"
   ]
  },
  {
   "cell_type": "code",
   "execution_count": 104,
   "id": "6b8ca76f-3d18-43f8-a129-383e067b51a6",
   "metadata": {},
   "outputs": [
    {
     "data": {
      "text/plain": [
       "3"
      ]
     },
     "execution_count": 104,
     "metadata": {},
     "output_type": "execute_result"
    }
   ],
   "source": [
    "def ste(a):\n",
    "  return str(a)\n",
    "\n",
    "a = ste(567)\n",
    "len(a)"
   ]
  },
  {
   "cell_type": "code",
   "execution_count": 105,
   "id": "c9118555-ff84-446d-9416-6c0aca4e7581",
   "metadata": {},
   "outputs": [],
   "source": [
    "# overriding\n",
    "# overloading"
   ]
  },
  {
   "cell_type": "code",
   "execution_count": 106,
   "id": "8dbb6c98-6e5f-40ee-a9c0-f8a5bd4b68b6",
   "metadata": {},
   "outputs": [
    {
     "name": "stdout",
     "output_type": "stream",
     "text": [
      "None <class 'NoneType'>\n"
     ]
    }
   ],
   "source": [
    "a = 45\n",
    "a = '45'\n",
    "a = None\n",
    "print(a,type(a))"
   ]
  },
  {
   "cell_type": "code",
   "execution_count": 108,
   "id": "fc654155-1455-480b-9b0a-f5c332c485e0",
   "metadata": {},
   "outputs": [
    {
     "name": "stdout",
     "output_type": "stream",
     "text": [
      "F1 Car Speed: Max speed 200 km/hr\n",
      "F1 Car Speed: max speed 200 km/hr\n",
      "F1 Car Speed: max speed 300 km/hr\n"
     ]
    }
   ],
   "source": [
    "class  Car:\n",
    "    def speed(self):\n",
    "        return ('Max speed 200 km/hr')\n",
    "        \n",
    "    def auto_pilot(self):\n",
    "        return('It supports auto pilot mode')\n",
    "\n",
    "    def info(self):\n",
    "        return('this is just a car object')\n",
    "\n",
    "class BMW(Car):\n",
    "    def speed(self):\n",
    "        return('max speed 200 km/hr')\n",
    "\n",
    "    def info(self):\n",
    "        return('A BMW car object')\n",
    "\n",
    "class Audi(Car):\n",
    "\n",
    "    def speed(self):\n",
    "        return('max speed 300 km/hr')\n",
    "\n",
    "    def info(self):\n",
    "        return('audi car')\n",
    "\n",
    "\n",
    "for i in [Car, BMW, Audi]:\n",
    "    f1 = i()\n",
    "    print('F1 Car Speed:', f1.speed())\n",
    "\n",
    "        \n",
    "        "
   ]
  },
  {
   "cell_type": "code",
   "execution_count": 109,
   "id": "c6029811-95d9-4fbd-a5cd-2d380cd7e635",
   "metadata": {},
   "outputs": [
    {
     "name": "stdout",
     "output_type": "stream",
     "text": [
      "max speed 200 km/hr\n"
     ]
    }
   ],
   "source": [
    "f1 = BMW()\n",
    "print(f1.speed())"
   ]
  },
  {
   "cell_type": "code",
   "execution_count": 110,
   "id": "8021e3be-f27b-48d0-b298-1d086a0060eb",
   "metadata": {},
   "outputs": [],
   "source": [
    "#Method Overloading and Method Overriding\n",
    "#Overloading: A class consisting of same name methods with different parameter\n",
    "#Overriding: Different classes consisting of same name methods with same parameter"
   ]
  },
  {
   "cell_type": "code",
   "execution_count": 112,
   "id": "5660a9ef-7357-447d-b7f5-9d63410699eb",
   "metadata": {},
   "outputs": [
    {
     "name": "stdout",
     "output_type": "stream",
     "text": [
      "Hello Garema, how are you?!\n",
      "Your Address is Delhi\n"
     ]
    }
   ],
   "source": [
    "#naturally python cannot perform method overloading\n",
    "class IITM:\n",
    "\n",
    "    def intro(self):\n",
    "        print('heyy there!')\n",
    "\n",
    "    def intro(self,name):\n",
    "        print(f'Hello {name}, how are you?!')\n",
    "\n",
    "    def intro(self,name,address):\n",
    "        print(f'Hello {name}, how are you?!')\n",
    "        print(f'Your Address is {address}')\n",
    "\n",
    "\n",
    "a = IITM()\n",
    "a.intro('Garema','Delhi')"
   ]
  },
  {
   "cell_type": "code",
   "execution_count": 126,
   "id": "0df61662-4e25-4c03-bd2f-4727e1da9856",
   "metadata": {},
   "outputs": [],
   "source": [
    "class IITM:\n",
    "\n",
    "    def intro(self,name = None,address = None):\n",
    "        if(name == None) and (address == None):\n",
    "            print(\"hey there!!\")\n",
    "            \n",
    "        elif (name != None) and (address == None):\n",
    "            print(f'Hello {name}, How are you??')\n",
    "\n",
    "        elif (name!=None) and (address!=None):\n",
    "            print(f'Hello {name}, How are you??')\n",
    "            print(f'Your Address is {address}')\n",
    "\n",
    "        else:\n",
    "            print(\"Home Sweet Home\")\n",
    "\n"
   ]
  },
  {
   "cell_type": "code",
   "execution_count": 127,
   "id": "4c0a6e64-a2af-4140-bdf1-1f91fed9165d",
   "metadata": {},
   "outputs": [],
   "source": [
    "a = IITM()"
   ]
  },
  {
   "cell_type": "code",
   "execution_count": 128,
   "id": "fe02000f-0edb-4e4e-835a-5a1ae63a1010",
   "metadata": {},
   "outputs": [
    {
     "name": "stdout",
     "output_type": "stream",
     "text": [
      "Home Sweet Home\n"
     ]
    }
   ],
   "source": [
    "a.intro(address = 'Delhi')"
   ]
  },
  {
   "cell_type": "code",
   "execution_count": 131,
   "id": "c4993b48-fc15-451f-9259-dcfcb5dc1569",
   "metadata": {},
   "outputs": [],
   "source": [
    "#Abstraction: Project Management\n",
    "#Abstract Noun: An Idea or A blueprint/ Not a physical object\n",
    "#Methods are manadatory\n",
    "#There is no object of abstract class\n",
    "\n",
    "class Website:\n",
    "    def login():\n",
    "        pass\n",
    "    def logout():\n",
    "        pass\n",
    "    def signup():\n",
    "        pass\n",
    "    def updates():\n",
    "        pass\n",
    "    def multiple():\n",
    "        pass\n",
    "    "
   ]
  },
  {
   "cell_type": "code",
   "execution_count": 134,
   "id": "635e4552-8a78-4721-a77f-3d6fe63ceed1",
   "metadata": {},
   "outputs": [
    {
     "ename": "TypeError",
     "evalue": "Can't instantiate abstract class Website without an implementation for abstract methods 'login', 'logout'",
     "output_type": "error",
     "traceback": [
      "\u001b[1;31m---------------------------------------------------------------------------\u001b[0m",
      "\u001b[1;31mTypeError\u001b[0m                                 Traceback (most recent call last)",
      "Cell \u001b[1;32mIn[134], line 13\u001b[0m\n\u001b[0;32m      9\u001b[0m     \u001b[38;5;129m@abstractmethod\u001b[39m\n\u001b[0;32m     10\u001b[0m     \u001b[38;5;28;01mdef\u001b[39;00m\u001b[38;5;250m \u001b[39m\u001b[38;5;21mlogout\u001b[39m(\u001b[38;5;28mself\u001b[39m):\n\u001b[0;32m     11\u001b[0m         \u001b[38;5;28mprint\u001b[39m(\u001b[38;5;124m'\u001b[39m\u001b[38;5;124ma logout method\u001b[39m\u001b[38;5;124m'\u001b[39m)\n\u001b[1;32m---> 13\u001b[0m asus \u001b[38;5;241m=\u001b[39m Website()\n\u001b[0;32m     14\u001b[0m \u001b[38;5;28mprint\u001b[39m(\u001b[38;5;124m'\u001b[39m\u001b[38;5;124mdone\u001b[39m\u001b[38;5;124m'\u001b[39m)\n",
      "\u001b[1;31mTypeError\u001b[0m: Can't instantiate abstract class Website without an implementation for abstract methods 'login', 'logout'"
     ]
    }
   ],
   "source": [
    "from abc import ABC, abstractmethod #abstractmethod is a decorative\n",
    "\n",
    "class Website(ABC):\n",
    "\n",
    "    @abstractmethod\n",
    "    def login(self):\n",
    "        print('This is a login method')\n",
    "\n",
    "    @abstractmethod\n",
    "    def logout(self):\n",
    "        print('a logout method')\n",
    "\n",
    "asus = Website()\n",
    "print('done')\n",
    "\n",
    "#1. Abstraction is an Idea, 2. There is no object of abstract class, 3. Abstraction is Project Management and 4. Methods are manadatory!!\n",
    "    "
   ]
  },
  {
   "cell_type": "code",
   "execution_count": 136,
   "id": "7fc37583-071b-443e-8bf3-ad6130a930f2",
   "metadata": {},
   "outputs": [],
   "source": [
    "class Garema(Website):\n",
    "\n",
    "    def signup(self):\n",
    "        print('user can signup')\n",
    "\n",
    "    def login(self):\n",
    "        print('this is a login form')\n",
    "\n",
    "    def logout(self):\n",
    "        print('user can logout')\n",
    "\n",
    "google = Garema()"
   ]
  },
  {
   "cell_type": "code",
   "execution_count": 137,
   "id": "4948040f-e2d1-4f48-be93-d35fec4e48b6",
   "metadata": {},
   "outputs": [
    {
     "name": "stdout",
     "output_type": "stream",
     "text": [
      "this is a login form\n"
     ]
    }
   ],
   "source": [
    "google.login()"
   ]
  },
  {
   "cell_type": "code",
   "execution_count": null,
   "id": "8fe44170-731f-4886-a1e4-a11dc669113d",
   "metadata": {},
   "outputs": [],
   "source": []
  }
 ],
 "metadata": {
  "kernelspec": {
   "display_name": "Python 3 (ipykernel)",
   "language": "python",
   "name": "python3"
  },
  "language_info": {
   "codemirror_mode": {
    "name": "ipython",
    "version": 3
   },
   "file_extension": ".py",
   "mimetype": "text/x-python",
   "name": "python",
   "nbconvert_exporter": "python",
   "pygments_lexer": "ipython3",
   "version": "3.13.5"
  }
 },
 "nbformat": 4,
 "nbformat_minor": 5
}
