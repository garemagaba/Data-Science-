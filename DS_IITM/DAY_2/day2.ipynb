{
 "cells": [
  {
   "cell_type": "code",
   "execution_count": 1,
   "id": "16f43b34-09fe-42b5-b92e-f24c1d8598d5",
   "metadata": {},
   "outputs": [],
   "source": [
    "def check_palindrome(word):\n",
    "    return word"
   ]
  },
  {
   "cell_type": "code",
   "execution_count": 2,
   "id": "e1498655-b971-42bd-b515-38aac043aebf",
   "metadata": {},
   "outputs": [
    {
     "data": {
      "text/plain": [
       "'Garema'"
      ]
     },
     "execution_count": 2,
     "metadata": {},
     "output_type": "execute_result"
    }
   ],
   "source": [
    "check_palindrome('Garema')"
   ]
  },
  {
   "cell_type": "code",
   "execution_count": 3,
   "id": "10b0b6c8-9671-4aea-8c3e-fb755ce5c44c",
   "metadata": {},
   "outputs": [
    {
     "data": {
      "text/plain": [
       "'ykcul'"
      ]
     },
     "execution_count": 3,
     "metadata": {},
     "output_type": "execute_result"
    }
   ],
   "source": [
    "a = 'lucky'\n",
    "a[::-1]"
   ]
  },
  {
   "cell_type": "code",
   "execution_count": 4,
   "id": "81da2187-93b4-4ae8-9030-c7edf3eb6944",
   "metadata": {},
   "outputs": [
    {
     "name": "stdout",
     "output_type": "stream",
     "text": [
      "lucky is Not a Palindrome\n"
     ]
    }
   ],
   "source": [
    "if a == a[::-1]:\n",
    "  print(f'{a} is a Palindrome')\n",
    "else:\n",
    "  print(f'{a} is Not a Palindrome')"
   ]
  },
  {
   "cell_type": "code",
   "execution_count": 5,
   "id": "b8b1b64b-d600-46cc-ad02-c3260453e9e1",
   "metadata": {},
   "outputs": [],
   "source": [
    "def check_palindrome(word:str):\n",
    "  if type(word) == str:\n",
    "    word = word.upper()\n",
    "    if word == word[::-1]:\n",
    "      return 'Palindrome'\n",
    "    else:\n",
    "      return 'Not a Plaindrome'\n",
    "  else:\n",
    "    return 'Invalid Data Type'"
   ]
  },
  {
   "cell_type": "code",
   "execution_count": 6,
   "id": "d1892e23-1dd0-40be-853c-573cf2f53d44",
   "metadata": {},
   "outputs": [
    {
     "data": {
      "text/plain": [
       "'Not a Plaindrome'"
      ]
     },
     "execution_count": 6,
     "metadata": {},
     "output_type": "execute_result"
    }
   ],
   "source": [
    "check_palindrome('garema')"
   ]
  },
  {
   "cell_type": "code",
   "execution_count": 7,
   "id": "01b9e641-c20d-4dee-ad31-71d84218bae1",
   "metadata": {},
   "outputs": [
    {
     "name": "stdout",
     "output_type": "stream",
     "text": [
      "Garema\n"
     ]
    }
   ],
   "source": [
    "a:int = 'Garema'\n",
    "print(a)"
   ]
  },
  {
   "cell_type": "code",
   "execution_count": 8,
   "id": "d02f4156-7eea-4d6d-84eb-70a943d7f095",
   "metadata": {},
   "outputs": [],
   "source": [
    "def give_fibo(n):\n",
    "  fibo = [0,1]\n",
    "  for i in range(n-2):\n",
    "     last_num = fibo[-1]\n",
    "     second_last_num = fibo[-2]\n",
    "     next_num = last_num + second_last_num\n",
    "     fibo.append(next_num)\n",
    "  return fibo"
   ]
  },
  {
   "cell_type": "code",
   "execution_count": 9,
   "id": "7e906556-f6fc-4a28-af1a-ac3adf6fe5a3",
   "metadata": {},
   "outputs": [
    {
     "data": {
      "text/plain": [
       "[0, 1, 1, 2, 3]"
      ]
     },
     "execution_count": 9,
     "metadata": {},
     "output_type": "execute_result"
    }
   ],
   "source": [
    "give_fibo(5)"
   ]
  },
  {
   "cell_type": "code",
   "execution_count": 10,
   "id": "7d41070c-3c58-4776-b9cc-cedc8f6c275c",
   "metadata": {},
   "outputs": [
    {
     "name": "stdout",
     "output_type": "stream",
     "text": [
      "856\n",
      "76\n"
     ]
    }
   ],
   "source": [
    "data = [34,65,654,76,856]\n",
    "print(data[-1])\n",
    "print(data[-2])"
   ]
  },
  {
   "cell_type": "code",
   "execution_count": 11,
   "id": "5066c39a-75ce-4dc1-9d1a-7c3b317cf47e",
   "metadata": {},
   "outputs": [],
   "source": [
    "def check_prime(number):\n",
    "    for i in range(2,number):\n",
    "        if number % i == 0:\n",
    "            return 'Not a Prime Number'\n",
    "            break\n",
    "            print('Happy Holi')\n",
    "    else:\n",
    "        return 'Prime Number'"
   ]
  },
  {
   "cell_type": "code",
   "execution_count": 12,
   "id": "7e3b67cd-5520-4012-a591-e69faf710c13",
   "metadata": {},
   "outputs": [
    {
     "data": {
      "text/plain": [
       "'Prime Number'"
      ]
     },
     "execution_count": 12,
     "metadata": {},
     "output_type": "execute_result"
    }
   ],
   "source": [
    "check_prime(11)"
   ]
  },
  {
   "cell_type": "code",
   "execution_count": 13,
   "id": "5337ba12-b786-48f3-9038-c6b0dc51a5df",
   "metadata": {},
   "outputs": [
    {
     "name": "stdout",
     "output_type": "stream",
     "text": [
      "* \n",
      "* * \n",
      "* * * \n",
      "* * * * \n",
      "* * * * * \n"
     ]
    }
   ],
   "source": [
    "n = 5\n",
    "\n",
    "for i in range(1,n+1):\n",
    "  print(i * '* ')"
   ]
  },
  {
   "cell_type": "code",
   "execution_count": 14,
   "id": "75b3f9ef-f88b-4d88-97fa-3658ba1364b8",
   "metadata": {},
   "outputs": [
    {
     "name": "stdout",
     "output_type": "stream",
     "text": [
      "    * \n",
      "   * * \n",
      "  * * * \n",
      " * * * * \n",
      "* * * * * \n"
     ]
    }
   ],
   "source": [
    "n = 5\n",
    "\n",
    "for i in range(1,n+1):\n",
    "  print(' '*(n-i) + i*'* ')"
   ]
  },
  {
   "cell_type": "code",
   "execution_count": 15,
   "id": "c89d519d-40f2-4a76-b7f3-890b63905b85",
   "metadata": {},
   "outputs": [],
   "source": [
    "def print_star(n = 5, typ = 'left',shape = '*'):\n",
    "  if typ  == 'left':\n",
    "    space  = ''\n",
    "\n",
    "  elif typ == 'right':\n",
    "    space = '  '\n",
    "\n",
    "  elif typ == 'mid':\n",
    "    space = ' '\n",
    "\n",
    "  for i in range(1,n+1):\n",
    "    print(space*(n-i) + i*f'{shape} ')"
   ]
  },
  {
   "cell_type": "code",
   "execution_count": 17,
   "id": "30535f98-7c6e-4847-aa3b-cbc42a11baa1",
   "metadata": {},
   "outputs": [
    {
     "name": "stdout",
     "output_type": "stream",
     "text": [
      "      ^ \n",
      "     ^ ^ \n",
      "    ^ ^ ^ \n",
      "   ^ ^ ^ ^ \n",
      "  ^ ^ ^ ^ ^ \n",
      " ^ ^ ^ ^ ^ ^ \n",
      "^ ^ ^ ^ ^ ^ ^ \n"
     ]
    }
   ],
   "source": [
    "print_star(n = 7, typ = 'mid', shape = '^')"
   ]
  },
  {
   "cell_type": "code",
   "execution_count": 18,
   "id": "3e59e7d7-4136-4cff-a90c-6cd57d76368a",
   "metadata": {},
   "outputs": [],
   "source": [
    "def sum_of_n_natural_numbers(n):\n",
    "    result = 0\n",
    "    for i in range(1,n+1):\n",
    "        result += i\n",
    "    return result"
   ]
  },
  {
   "cell_type": "code",
   "execution_count": 19,
   "id": "0507714c-8a7c-4719-bb75-4c2868e0afbd",
   "metadata": {},
   "outputs": [
    {
     "data": {
      "text/plain": [
       "15"
      ]
     },
     "execution_count": 19,
     "metadata": {},
     "output_type": "execute_result"
    }
   ],
   "source": [
    "sum_of_n_natural_numbers(5)"
   ]
  },
  {
   "cell_type": "code",
   "execution_count": 20,
   "id": "4cc54842-1aba-46ca-aca9-3b0ab90cef4e",
   "metadata": {},
   "outputs": [],
   "source": [
    "def factorial(n):\n",
    "    result = 1\n",
    "    for i in range(1,n+1):\n",
    "        result *= i\n",
    "    return result"
   ]
  },
  {
   "cell_type": "code",
   "execution_count": 21,
   "id": "722afd87-7ae4-4b16-95ca-44155e3e2f09",
   "metadata": {},
   "outputs": [
    {
     "data": {
      "text/plain": [
       "720"
      ]
     },
     "execution_count": 21,
     "metadata": {},
     "output_type": "execute_result"
    }
   ],
   "source": [
    "factorial(6)"
   ]
  },
  {
   "cell_type": "code",
   "execution_count": 22,
   "id": "75e2f837-6066-4bf2-9bc7-3cdcd1d554d0",
   "metadata": {},
   "outputs": [],
   "source": [
    "def total_sales(*args):\n",
    "  #unpacking\n",
    "  result = 0\n",
    "  for i in args:\n",
    "    result += i\n",
    "  return result"
   ]
  },
  {
   "cell_type": "code",
   "execution_count": 23,
   "id": "0080593e-1fe4-4ae4-8838-96f27696536b",
   "metadata": {},
   "outputs": [
    {
     "data": {
      "text/plain": [
       "158"
      ]
     },
     "execution_count": 23,
     "metadata": {},
     "output_type": "execute_result"
    }
   ],
   "source": [
    "total_sales(3,57,93,5)"
   ]
  },
  {
   "cell_type": "code",
   "execution_count": 24,
   "id": "14fd5ac4-567a-45fa-8236-d19697734d10",
   "metadata": {},
   "outputs": [],
   "source": [
    "sales = [45678,63,456,2,1]\n",
    "min_element = sales[0]"
   ]
  },
  {
   "cell_type": "code",
   "execution_count": 26,
   "id": "ca2ac1a5-4dc4-4f03-8f43-90da29bfd539",
   "metadata": {},
   "outputs": [
    {
     "name": "stdout",
     "output_type": "stream",
     "text": [
      "0\n"
     ]
    }
   ],
   "source": [
    "for i in sales[1:]:\n",
    "  if i < min_element:\n",
    "    min_element = i\n",
    "print(min_element)"
   ]
  },
  {
   "cell_type": "code",
   "execution_count": 27,
   "id": "e853a9ca-d366-4fe0-9577-705ce278e5cb",
   "metadata": {},
   "outputs": [],
   "source": [
    "def minn(*data):\n",
    "  min_ele = data[0]\n",
    "  for i in data[1:]:\n",
    "    if i< min_ele:\n",
    "      min_ele = i\n",
    "  return min_ele"
   ]
  },
  {
   "cell_type": "code",
   "execution_count": 28,
   "id": "79c8d5a4-1af4-4f21-a0b4-dca4b0b18d23",
   "metadata": {},
   "outputs": [
    {
     "data": {
      "text/plain": [
       "5"
      ]
     },
     "execution_count": 28,
     "metadata": {},
     "output_type": "execute_result"
    }
   ],
   "source": [
    "minn(34,75,92,5)"
   ]
  },
  {
   "cell_type": "code",
   "execution_count": 30,
   "id": "cffda8cb-0c1f-4be7-a391-6785062a35f2",
   "metadata": {},
   "outputs": [],
   "source": [
    "def maxx(*data):\n",
    "  max_ele = data[0]\n",
    "  for i in data[1:]:\n",
    "    if i > max_ele:\n",
    "      max_ele = i\n",
    "  return max_ele"
   ]
  },
  {
   "cell_type": "code",
   "execution_count": 32,
   "id": "894076b8-41cc-444c-892c-09acf082c59a",
   "metadata": {},
   "outputs": [
    {
     "data": {
      "text/plain": [
       "90"
      ]
     },
     "execution_count": 32,
     "metadata": {},
     "output_type": "execute_result"
    }
   ],
   "source": [
    "maxx(47,29,34,90)"
   ]
  },
  {
   "cell_type": "code",
   "execution_count": 33,
   "id": "e3f7e35b-ea6e-4ff5-a42a-7119dab8fb69",
   "metadata": {},
   "outputs": [],
   "source": [
    "company = ['ola','uber','rapido','indrive','adani','tata']\n",
    "\n",
    "# ['#OLA','#UBER','#RAPIDO']\n",
    "\n",
    "\n",
    "\n",
    "def add_hashtag(*company):\n",
    "  result = []\n",
    "  for i in company:\n",
    "    result.append('#'+i.upper())\n",
    "  return result"
   ]
  },
  {
   "cell_type": "code",
   "execution_count": 34,
   "id": "80fa3142-2091-4f5d-8adf-51fd36882bd3",
   "metadata": {},
   "outputs": [
    {
     "data": {
      "text/plain": [
       "['#OLA', '#UBER']"
      ]
     },
     "execution_count": 34,
     "metadata": {},
     "output_type": "execute_result"
    }
   ],
   "source": [
    "add_hashtag('ola','uber')"
   ]
  },
  {
   "cell_type": "code",
   "execution_count": 35,
   "id": "7a0a9b83-3183-4f48-bde3-a004b7bb7dcf",
   "metadata": {},
   "outputs": [],
   "source": [
    "def store_records(name,age,sec,roll_no,Class):\n",
    "  data = {'Name':name,'Age':age,'Sec':sec,'Roll_NO':roll_no,'Class':Class}\n",
    "  import pandas as pd\n",
    "  result = pd.DataFrame(data,index = [0])\n",
    "  return result"
   ]
  },
  {
   "cell_type": "code",
   "execution_count": 39,
   "id": "ad77b95c-0118-4618-9205-69cbde1ca5fb",
   "metadata": {},
   "outputs": [
    {
     "data": {
      "text/html": [
       "<div>\n",
       "<style scoped>\n",
       "    .dataframe tbody tr th:only-of-type {\n",
       "        vertical-align: middle;\n",
       "    }\n",
       "\n",
       "    .dataframe tbody tr th {\n",
       "        vertical-align: top;\n",
       "    }\n",
       "\n",
       "    .dataframe thead th {\n",
       "        text-align: right;\n",
       "    }\n",
       "</style>\n",
       "<table border=\"1\" class=\"dataframe\">\n",
       "  <thead>\n",
       "    <tr style=\"text-align: right;\">\n",
       "      <th></th>\n",
       "      <th>Name</th>\n",
       "      <th>Age</th>\n",
       "      <th>Sec</th>\n",
       "      <th>Roll_NO</th>\n",
       "      <th>Class</th>\n",
       "    </tr>\n",
       "  </thead>\n",
       "  <tbody>\n",
       "    <tr>\n",
       "      <th>0</th>\n",
       "      <td>Toto Gaba</td>\n",
       "      <td>11</td>\n",
       "      <td>NA</td>\n",
       "      <td>12</td>\n",
       "      <td>1</td>\n",
       "    </tr>\n",
       "  </tbody>\n",
       "</table>\n",
       "</div>"
      ],
      "text/plain": [
       "        Name  Age Sec  Roll_NO  Class\n",
       "0  Toto Gaba   11  NA       12      1"
      ]
     },
     "execution_count": 39,
     "metadata": {},
     "output_type": "execute_result"
    }
   ],
   "source": [
    "store_records('Garema Gaba',20,'E',64,15)\n",
    "store_records('Gaurvit Gaba',9,'B',19,4)\n",
    "store_records('Toto Gaba',11,'NA',12,1)"
   ]
  },
  {
   "cell_type": "code",
   "execution_count": 38,
   "id": "8dc81977-3158-4804-a6bf-b0e4673ed185",
   "metadata": {},
   "outputs": [],
   "source": [
    "def students_records(**kwargs):\n",
    "    # print(kwargs)\n",
    "    # try exception\n",
    "    import pandas as pd\n",
    "    try:\n",
    "        result = pd.DataFrame(kwargs)\n",
    "        return result\n",
    "    except:\n",
    "        result = pd.DataFrame(kwargs,index = [1])\n",
    "        return result"
   ]
  },
  {
   "cell_type": "code",
   "execution_count": 40,
   "id": "57876d93-de1c-422a-9970-0ef41604c109",
   "metadata": {},
   "outputs": [
    {
     "data": {
      "text/html": [
       "<div>\n",
       "<style scoped>\n",
       "    .dataframe tbody tr th:only-of-type {\n",
       "        vertical-align: middle;\n",
       "    }\n",
       "\n",
       "    .dataframe tbody tr th {\n",
       "        vertical-align: top;\n",
       "    }\n",
       "\n",
       "    .dataframe thead th {\n",
       "        text-align: right;\n",
       "    }\n",
       "</style>\n",
       "<table border=\"1\" class=\"dataframe\">\n",
       "  <thead>\n",
       "    <tr style=\"text-align: right;\">\n",
       "      <th></th>\n",
       "      <th>Name</th>\n",
       "      <th>Age</th>\n",
       "      <th>Roll_No</th>\n",
       "      <th>Address</th>\n",
       "    </tr>\n",
       "  </thead>\n",
       "  <tbody>\n",
       "    <tr>\n",
       "      <th>0</th>\n",
       "      <td>Garema Gaba</td>\n",
       "      <td>20</td>\n",
       "      <td>64</td>\n",
       "      <td>Janakpuri</td>\n",
       "    </tr>\n",
       "    <tr>\n",
       "      <th>1</th>\n",
       "      <td>Gaurvit Gaba</td>\n",
       "      <td>9</td>\n",
       "      <td>19</td>\n",
       "      <td>Janakpuri</td>\n",
       "    </tr>\n",
       "    <tr>\n",
       "      <th>2</th>\n",
       "      <td>Toto Gaba</td>\n",
       "      <td>11</td>\n",
       "      <td>7</td>\n",
       "      <td>Janakpuri</td>\n",
       "    </tr>\n",
       "  </tbody>\n",
       "</table>\n",
       "</div>"
      ],
      "text/plain": [
       "           Name  Age  Roll_No    Address\n",
       "0   Garema Gaba   20       64  Janakpuri\n",
       "1  Gaurvit Gaba    9       19  Janakpuri\n",
       "2     Toto Gaba   11        7  Janakpuri"
      ]
     },
     "execution_count": 40,
     "metadata": {},
     "output_type": "execute_result"
    }
   ],
   "source": [
    "students_records(Name = ['Garema Gaba','Gaurvit Gaba','Toto Gaba'],\n",
    "                 Age = [20,9,11],\n",
    "                 Roll_No = [64,19,7],\n",
    "                 Address = ['Janakpuri','Janakpuri','Janakpuri'])"
   ]
  },
  {
   "cell_type": "code",
   "execution_count": null,
   "id": "e9913e53-71bf-4c01-9632-06bae30eeef2",
   "metadata": {},
   "outputs": [],
   "source": []
  }
 ],
 "metadata": {
  "kernelspec": {
   "display_name": "Python 3 (ipykernel)",
   "language": "python",
   "name": "python3"
  },
  "language_info": {
   "codemirror_mode": {
    "name": "ipython",
    "version": 3
   },
   "file_extension": ".py",
   "mimetype": "text/x-python",
   "name": "python",
   "nbconvert_exporter": "python",
   "pygments_lexer": "ipython3",
   "version": "3.13.5"
  }
 },
 "nbformat": 4,
 "nbformat_minor": 5
}
